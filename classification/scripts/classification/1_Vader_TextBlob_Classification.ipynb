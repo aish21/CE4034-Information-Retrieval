{
  "nbformat": 4,
  "nbformat_minor": 0,
  "metadata": {
    "colab": {
      "provenance": []
    },
    "kernelspec": {
      "name": "python3",
      "display_name": "Python 3"
    },
    "language_info": {
      "name": "python"
    }
  },
  "cells": [
    {
      "cell_type": "code",
      "execution_count": 22,
      "metadata": {
        "colab": {
          "base_uri": "https://localhost:8080/"
        },
        "id": "WuOTy7Ms_jKt",
        "outputId": "0857f3ab-588b-48a0-8930-93e932e98e00"
      },
      "outputs": [
        {
          "output_type": "stream",
          "name": "stdout",
          "text": [
            "Looking in indexes: https://pypi.org/simple, https://us-python.pkg.dev/colab-wheels/public/simple/\n",
            "Requirement already satisfied: unidecode in /usr/local/lib/python3.9/dist-packages (1.3.6)\n",
            "Looking in indexes: https://pypi.org/simple, https://us-python.pkg.dev/colab-wheels/public/simple/\n",
            "Requirement already satisfied: twython in /usr/local/lib/python3.9/dist-packages (3.9.1)\n",
            "Requirement already satisfied: requests>=2.1.0 in /usr/local/lib/python3.9/dist-packages (from twython) (2.27.1)\n",
            "Requirement already satisfied: requests-oauthlib>=0.4.0 in /usr/local/lib/python3.9/dist-packages (from twython) (1.3.1)\n",
            "Requirement already satisfied: charset-normalizer~=2.0.0 in /usr/local/lib/python3.9/dist-packages (from requests>=2.1.0->twython) (2.0.12)\n",
            "Requirement already satisfied: idna<4,>=2.5 in /usr/local/lib/python3.9/dist-packages (from requests>=2.1.0->twython) (3.4)\n",
            "Requirement already satisfied: certifi>=2017.4.17 in /usr/local/lib/python3.9/dist-packages (from requests>=2.1.0->twython) (2022.12.7)\n",
            "Requirement already satisfied: urllib3<1.27,>=1.21.1 in /usr/local/lib/python3.9/dist-packages (from requests>=2.1.0->twython) (1.26.15)\n",
            "Requirement already satisfied: oauthlib>=3.0.0 in /usr/local/lib/python3.9/dist-packages (from requests-oauthlib>=0.4.0->twython) (3.2.2)\n",
            "Looking in indexes: https://pypi.org/simple, https://us-python.pkg.dev/colab-wheels/public/simple/\n",
            "Requirement already satisfied: vaderSentiment in /usr/local/lib/python3.9/dist-packages (3.3.2)\n",
            "Requirement already satisfied: requests in /usr/local/lib/python3.9/dist-packages (from vaderSentiment) (2.27.1)\n",
            "Requirement already satisfied: idna<4,>=2.5 in /usr/local/lib/python3.9/dist-packages (from requests->vaderSentiment) (3.4)\n",
            "Requirement already satisfied: urllib3<1.27,>=1.21.1 in /usr/local/lib/python3.9/dist-packages (from requests->vaderSentiment) (1.26.15)\n",
            "Requirement already satisfied: certifi>=2017.4.17 in /usr/local/lib/python3.9/dist-packages (from requests->vaderSentiment) (2022.12.7)\n",
            "Requirement already satisfied: charset-normalizer~=2.0.0 in /usr/local/lib/python3.9/dist-packages (from requests->vaderSentiment) (2.0.12)\n"
          ]
        }
      ],
      "source": [
        "!pip install unidecode\n",
        "!!pip install contractions\n",
        "!pip install twython\n",
        "!pip install vaderSentiment\n",
        "\n",
        "import pandas as pd\n",
        "import nltk\n",
        "from nltk.tokenize import word_tokenize \n",
        "from nltk.stem import WordNetLemmatizer \n",
        "from nltk.corpus import stopwords\n",
        "import contractions\n",
        "import re\n",
        "import unidecode\n",
        "from vaderSentiment.vaderSentiment import SentimentIntensityAnalyzer\n",
        "from sklearn import metrics\n",
        "import matplotlib.pyplot as plt\n",
        "from sklearn.metrics import confusion_matrix, ConfusionMatrixDisplay\n",
        "import seaborn as sns\n",
        "import matplotlib.pyplot as plt  \n",
        "from textblob import TextBlob\n",
        "from pandas.core.algorithms import diff\n",
        "from pandas._libs.algos import diff_2d"
      ]
    },
    {
      "cell_type": "code",
      "source": [
        "data = pd.read_csv('/content/combined_labelled_processed.csv', encoding=\"ISO-8859-1\")"
      ],
      "metadata": {
        "id": "q93i9q6k_yWq",
        "colab": {
          "base_uri": "https://localhost:8080/"
        },
        "outputId": "0d7d04c1-ef4a-4aee-cf77-c9c38aa87af4"
      },
      "execution_count": 23,
      "outputs": [
        {
          "output_type": "stream",
          "name": "stderr",
          "text": [
            "<ipython-input-23-2ad56e88d4ff>:1: DtypeWarning: Columns (1,5,6) have mixed types. Specify dtype option on import or set low_memory=False.\n",
            "  data = pd.read_csv('/content/combined_labelled_processed.csv', encoding=\"ISO-8859-1\")\n"
          ]
        }
      ]
    },
    {
      "cell_type": "code",
      "source": [
        "data"
      ],
      "metadata": {
        "colab": {
          "base_uri": "https://localhost:8080/",
          "height": 1000
        },
        "id": "CUuw3RcUA1dm",
        "outputId": "b1bc19d1-fc60-49c7-ee6e-17e9c587f31b"
      },
      "execution_count": 24,
      "outputs": [
        {
          "output_type": "execute_result",
          "data": {
            "text/plain": [
              "             username verified  followersCount  \\\n",
              "0              G_F758    FALSE             343   \n",
              "1        DeVinSimmons    FALSE             421   \n",
              "2             cozzboz    FALSE             117   \n",
              "3      Fantastic_4ork    FALSE             486   \n",
              "4       jordan_sebas2    FALSE             487   \n",
              "...               ...      ...             ...   \n",
              "79545         Abfun77    False             382   \n",
              "79546        Vivern96    False               7   \n",
              "79547   EllieCupcakes    False             263   \n",
              "79548      Pinknotess    False               0   \n",
              "79549  TheAshenHollow    False            2405   \n",
              "\n",
              "                                              rawContent             date  \\\n",
              "0      Hogwarts Legacy Flight the Good Flight (SILVER...  18/2/2023 12:47   \n",
              "1      Oh and how smooth getting on and off the broom...   16/2/2023 5:27   \n",
              "2      Playing endless hours of #HogwartsLegacy got m...  16/2/2023 14:34   \n",
              "3      Hey #AvalancheSoftware how about that #photomo...  15/2/2023 19:24   \n",
              "4      Hogwarts Legacy Flight the Good Flight (SILVER...  15/2/2023 19:57   \n",
              "...                                                  ...              ...   \n",
              "79545  Video of ELDEN RING: All Quests in Order + Mis...   22/2/2023 0:17   \n",
              "79546  Red Wolf of Radagon RL1 NoHit #ELDEN_RING #ELD...  16/6/2022 14:29   \n",
              "79547  Fanart of Miruku with her Apostle (Slim) and M...   3/3/2023 21:01   \n",
              "79548  This comic is definitely worth reading! Come c...   19/3/2023 3:42   \n",
              "79549  New video is out now! Ã°ÂÂÂ Who the fudge i...   11/6/2022 2:42   \n",
              "\n",
              "      replyCount retweetCount  likeCount  \\\n",
              "0              0            0        1.0   \n",
              "1              0            0        0.0   \n",
              "2              0            0        0.0   \n",
              "3              0            0        3.0   \n",
              "4              0            0        0.0   \n",
              "...          ...          ...        ...   \n",
              "79545          0            7       79.0   \n",
              "79546          0            0        1.0   \n",
              "79547          1            7       32.0   \n",
              "79548          0            0        0.0   \n",
              "79549          0            5       19.0   \n",
              "\n",
              "                                                     url  \\\n",
              "0      https://twitter.com/G_F758/status/162692648616...   \n",
              "1      https://twitter.com/DeVinSimmons/status/162609...   \n",
              "2      https://twitter.com/cozzboz/status/16262284309...   \n",
              "3      https://twitter.com/Fantastic_4ork/status/1625...   \n",
              "4      https://twitter.com/jordan_sebas2/status/16259...   \n",
              "...                                                  ...   \n",
              "79545  https://twitter.com/Abfun77/status/16281871857...   \n",
              "79546  https://twitter.com/Vivern96/status/1537442134...   \n",
              "79547  https://twitter.com/EllieCupcakes/status/16317...   \n",
              "79548  https://twitter.com/Pinknotess/status/16372984...   \n",
              "79549  https://twitter.com/TheAshenHollow/status/1535...   \n",
              "\n",
              "                                                hashtags game  labels  \\\n",
              "0      ['PlayStationTrophy', 'PS5Share', 'HogwartsLeg...  HGL     0.0   \n",
              "1                                     ['HogwartsLegacy']  HGL     0.0   \n",
              "2                                     ['HogwartsLegacy']  HGL     0.0   \n",
              "3      ['AvalancheSoftware', 'photomode', 'hogwartsle...  HGL     0.0   \n",
              "4      ['PlayStationTrophy', 'PS5Share', 'HogwartsLeg...  HGL     0.0   \n",
              "...                                                  ...  ...     ...   \n",
              "79545  ['ELDENRING', 'ELDEN_RING', 'guide', 'gaming',...  ELR     NaN   \n",
              "79546      ['ELDEN_RING', 'ELDENRING', 'gaming', 'game']  ELR     NaN   \n",
              "79547                      ['EldenRing', 'EldenRingArt']  ELR     NaN   \n",
              "79548        ['EldenRing', 'illusrtationart', 'Romance']  ELR     NaN   \n",
              "79549                        ['ELDEN_RING', 'EldenRing']  ELR     NaN   \n",
              "\n",
              "                                               processed  \n",
              "0      ['hogwarts', 'legacy', 'flight', 'the', 'good'...  \n",
              "1      ['oh', 'and', 'how', 'smooth', 'get', 'on', 'a...  \n",
              "2      ['play', 'endless', 'hours', 'of', 'get', 'me'...  \n",
              "3      ['hey', 'how', 'about', 'that', 'for', 'd', 'd...  \n",
              "4      ['hogwarts', 'legacy', 'flight', 'the', 'good'...  \n",
              "...                                                  ...  \n",
              "79545  ['video', 'of', 'elder', 'ring', 'all', 'quest...  \n",
              "79546  ['red', 'wolf', 'of', 'dragon', 'rl1', 'not', ...  \n",
              "79547  ['apart', 'of', 'miruku', 'with', 'her', 'apos...  \n",
              "79548  ['this', 'comic', 'be', 'definitely', 'worth',...  \n",
              "79549  ['new', 'video', 'be', 'out', 'now', 'd', 'who...  \n",
              "\n",
              "[79550 rows x 13 columns]"
            ],
            "text/html": [
              "\n",
              "  <div id=\"df-193c6118-257c-4a6d-af2d-2999b71c1c3e\">\n",
              "    <div class=\"colab-df-container\">\n",
              "      <div>\n",
              "<style scoped>\n",
              "    .dataframe tbody tr th:only-of-type {\n",
              "        vertical-align: middle;\n",
              "    }\n",
              "\n",
              "    .dataframe tbody tr th {\n",
              "        vertical-align: top;\n",
              "    }\n",
              "\n",
              "    .dataframe thead th {\n",
              "        text-align: right;\n",
              "    }\n",
              "</style>\n",
              "<table border=\"1\" class=\"dataframe\">\n",
              "  <thead>\n",
              "    <tr style=\"text-align: right;\">\n",
              "      <th></th>\n",
              "      <th>username</th>\n",
              "      <th>verified</th>\n",
              "      <th>followersCount</th>\n",
              "      <th>rawContent</th>\n",
              "      <th>date</th>\n",
              "      <th>replyCount</th>\n",
              "      <th>retweetCount</th>\n",
              "      <th>likeCount</th>\n",
              "      <th>url</th>\n",
              "      <th>hashtags</th>\n",
              "      <th>game</th>\n",
              "      <th>labels</th>\n",
              "      <th>processed</th>\n",
              "    </tr>\n",
              "  </thead>\n",
              "  <tbody>\n",
              "    <tr>\n",
              "      <th>0</th>\n",
              "      <td>G_F758</td>\n",
              "      <td>FALSE</td>\n",
              "      <td>343</td>\n",
              "      <td>Hogwarts Legacy Flight the Good Flight (SILVER...</td>\n",
              "      <td>18/2/2023 12:47</td>\n",
              "      <td>0</td>\n",
              "      <td>0</td>\n",
              "      <td>1.0</td>\n",
              "      <td>https://twitter.com/G_F758/status/162692648616...</td>\n",
              "      <td>['PlayStationTrophy', 'PS5Share', 'HogwartsLeg...</td>\n",
              "      <td>HGL</td>\n",
              "      <td>0.0</td>\n",
              "      <td>['hogwarts', 'legacy', 'flight', 'the', 'good'...</td>\n",
              "    </tr>\n",
              "    <tr>\n",
              "      <th>1</th>\n",
              "      <td>DeVinSimmons</td>\n",
              "      <td>FALSE</td>\n",
              "      <td>421</td>\n",
              "      <td>Oh and how smooth getting on and off the broom...</td>\n",
              "      <td>16/2/2023 5:27</td>\n",
              "      <td>0</td>\n",
              "      <td>0</td>\n",
              "      <td>0.0</td>\n",
              "      <td>https://twitter.com/DeVinSimmons/status/162609...</td>\n",
              "      <td>['HogwartsLegacy']</td>\n",
              "      <td>HGL</td>\n",
              "      <td>0.0</td>\n",
              "      <td>['oh', 'and', 'how', 'smooth', 'get', 'on', 'a...</td>\n",
              "    </tr>\n",
              "    <tr>\n",
              "      <th>2</th>\n",
              "      <td>cozzboz</td>\n",
              "      <td>FALSE</td>\n",
              "      <td>117</td>\n",
              "      <td>Playing endless hours of #HogwartsLegacy got m...</td>\n",
              "      <td>16/2/2023 14:34</td>\n",
              "      <td>0</td>\n",
              "      <td>0</td>\n",
              "      <td>0.0</td>\n",
              "      <td>https://twitter.com/cozzboz/status/16262284309...</td>\n",
              "      <td>['HogwartsLegacy']</td>\n",
              "      <td>HGL</td>\n",
              "      <td>0.0</td>\n",
              "      <td>['play', 'endless', 'hours', 'of', 'get', 'me'...</td>\n",
              "    </tr>\n",
              "    <tr>\n",
              "      <th>3</th>\n",
              "      <td>Fantastic_4ork</td>\n",
              "      <td>FALSE</td>\n",
              "      <td>486</td>\n",
              "      <td>Hey #AvalancheSoftware how about that #photomo...</td>\n",
              "      <td>15/2/2023 19:24</td>\n",
              "      <td>0</td>\n",
              "      <td>0</td>\n",
              "      <td>3.0</td>\n",
              "      <td>https://twitter.com/Fantastic_4ork/status/1625...</td>\n",
              "      <td>['AvalancheSoftware', 'photomode', 'hogwartsle...</td>\n",
              "      <td>HGL</td>\n",
              "      <td>0.0</td>\n",
              "      <td>['hey', 'how', 'about', 'that', 'for', 'd', 'd...</td>\n",
              "    </tr>\n",
              "    <tr>\n",
              "      <th>4</th>\n",
              "      <td>jordan_sebas2</td>\n",
              "      <td>FALSE</td>\n",
              "      <td>487</td>\n",
              "      <td>Hogwarts Legacy Flight the Good Flight (SILVER...</td>\n",
              "      <td>15/2/2023 19:57</td>\n",
              "      <td>0</td>\n",
              "      <td>0</td>\n",
              "      <td>0.0</td>\n",
              "      <td>https://twitter.com/jordan_sebas2/status/16259...</td>\n",
              "      <td>['PlayStationTrophy', 'PS5Share', 'HogwartsLeg...</td>\n",
              "      <td>HGL</td>\n",
              "      <td>0.0</td>\n",
              "      <td>['hogwarts', 'legacy', 'flight', 'the', 'good'...</td>\n",
              "    </tr>\n",
              "    <tr>\n",
              "      <th>...</th>\n",
              "      <td>...</td>\n",
              "      <td>...</td>\n",
              "      <td>...</td>\n",
              "      <td>...</td>\n",
              "      <td>...</td>\n",
              "      <td>...</td>\n",
              "      <td>...</td>\n",
              "      <td>...</td>\n",
              "      <td>...</td>\n",
              "      <td>...</td>\n",
              "      <td>...</td>\n",
              "      <td>...</td>\n",
              "      <td>...</td>\n",
              "    </tr>\n",
              "    <tr>\n",
              "      <th>79545</th>\n",
              "      <td>Abfun77</td>\n",
              "      <td>False</td>\n",
              "      <td>382</td>\n",
              "      <td>Video of ELDEN RING: All Quests in Order + Mis...</td>\n",
              "      <td>22/2/2023 0:17</td>\n",
              "      <td>0</td>\n",
              "      <td>7</td>\n",
              "      <td>79.0</td>\n",
              "      <td>https://twitter.com/Abfun77/status/16281871857...</td>\n",
              "      <td>['ELDENRING', 'ELDEN_RING', 'guide', 'gaming',...</td>\n",
              "      <td>ELR</td>\n",
              "      <td>NaN</td>\n",
              "      <td>['video', 'of', 'elder', 'ring', 'all', 'quest...</td>\n",
              "    </tr>\n",
              "    <tr>\n",
              "      <th>79546</th>\n",
              "      <td>Vivern96</td>\n",
              "      <td>False</td>\n",
              "      <td>7</td>\n",
              "      <td>Red Wolf of Radagon RL1 NoHit #ELDEN_RING #ELD...</td>\n",
              "      <td>16/6/2022 14:29</td>\n",
              "      <td>0</td>\n",
              "      <td>0</td>\n",
              "      <td>1.0</td>\n",
              "      <td>https://twitter.com/Vivern96/status/1537442134...</td>\n",
              "      <td>['ELDEN_RING', 'ELDENRING', 'gaming', 'game']</td>\n",
              "      <td>ELR</td>\n",
              "      <td>NaN</td>\n",
              "      <td>['red', 'wolf', 'of', 'dragon', 'rl1', 'not', ...</td>\n",
              "    </tr>\n",
              "    <tr>\n",
              "      <th>79547</th>\n",
              "      <td>EllieCupcakes</td>\n",
              "      <td>False</td>\n",
              "      <td>263</td>\n",
              "      <td>Fanart of Miruku with her Apostle (Slim) and M...</td>\n",
              "      <td>3/3/2023 21:01</td>\n",
              "      <td>1</td>\n",
              "      <td>7</td>\n",
              "      <td>32.0</td>\n",
              "      <td>https://twitter.com/EllieCupcakes/status/16317...</td>\n",
              "      <td>['EldenRing', 'EldenRingArt']</td>\n",
              "      <td>ELR</td>\n",
              "      <td>NaN</td>\n",
              "      <td>['apart', 'of', 'miruku', 'with', 'her', 'apos...</td>\n",
              "    </tr>\n",
              "    <tr>\n",
              "      <th>79548</th>\n",
              "      <td>Pinknotess</td>\n",
              "      <td>False</td>\n",
              "      <td>0</td>\n",
              "      <td>This comic is definitely worth reading! Come c...</td>\n",
              "      <td>19/3/2023 3:42</td>\n",
              "      <td>0</td>\n",
              "      <td>0</td>\n",
              "      <td>0.0</td>\n",
              "      <td>https://twitter.com/Pinknotess/status/16372984...</td>\n",
              "      <td>['EldenRing', 'illusrtationart', 'Romance']</td>\n",
              "      <td>ELR</td>\n",
              "      <td>NaN</td>\n",
              "      <td>['this', 'comic', 'be', 'definitely', 'worth',...</td>\n",
              "    </tr>\n",
              "    <tr>\n",
              "      <th>79549</th>\n",
              "      <td>TheAshenHollow</td>\n",
              "      <td>False</td>\n",
              "      <td>2405</td>\n",
              "      <td>New video is out now! Ã°ÂÂÂ Who the fudge i...</td>\n",
              "      <td>11/6/2022 2:42</td>\n",
              "      <td>0</td>\n",
              "      <td>5</td>\n",
              "      <td>19.0</td>\n",
              "      <td>https://twitter.com/TheAshenHollow/status/1535...</td>\n",
              "      <td>['ELDEN_RING', 'EldenRing']</td>\n",
              "      <td>ELR</td>\n",
              "      <td>NaN</td>\n",
              "      <td>['new', 'video', 'be', 'out', 'now', 'd', 'who...</td>\n",
              "    </tr>\n",
              "  </tbody>\n",
              "</table>\n",
              "<p>79550 rows × 13 columns</p>\n",
              "</div>\n",
              "      <button class=\"colab-df-convert\" onclick=\"convertToInteractive('df-193c6118-257c-4a6d-af2d-2999b71c1c3e')\"\n",
              "              title=\"Convert this dataframe to an interactive table.\"\n",
              "              style=\"display:none;\">\n",
              "        \n",
              "  <svg xmlns=\"http://www.w3.org/2000/svg\" height=\"24px\"viewBox=\"0 0 24 24\"\n",
              "       width=\"24px\">\n",
              "    <path d=\"M0 0h24v24H0V0z\" fill=\"none\"/>\n",
              "    <path d=\"M18.56 5.44l.94 2.06.94-2.06 2.06-.94-2.06-.94-.94-2.06-.94 2.06-2.06.94zm-11 1L8.5 8.5l.94-2.06 2.06-.94-2.06-.94L8.5 2.5l-.94 2.06-2.06.94zm10 10l.94 2.06.94-2.06 2.06-.94-2.06-.94-.94-2.06-.94 2.06-2.06.94z\"/><path d=\"M17.41 7.96l-1.37-1.37c-.4-.4-.92-.59-1.43-.59-.52 0-1.04.2-1.43.59L10.3 9.45l-7.72 7.72c-.78.78-.78 2.05 0 2.83L4 21.41c.39.39.9.59 1.41.59.51 0 1.02-.2 1.41-.59l7.78-7.78 2.81-2.81c.8-.78.8-2.07 0-2.86zM5.41 20L4 18.59l7.72-7.72 1.47 1.35L5.41 20z\"/>\n",
              "  </svg>\n",
              "      </button>\n",
              "      \n",
              "  <style>\n",
              "    .colab-df-container {\n",
              "      display:flex;\n",
              "      flex-wrap:wrap;\n",
              "      gap: 12px;\n",
              "    }\n",
              "\n",
              "    .colab-df-convert {\n",
              "      background-color: #E8F0FE;\n",
              "      border: none;\n",
              "      border-radius: 50%;\n",
              "      cursor: pointer;\n",
              "      display: none;\n",
              "      fill: #1967D2;\n",
              "      height: 32px;\n",
              "      padding: 0 0 0 0;\n",
              "      width: 32px;\n",
              "    }\n",
              "\n",
              "    .colab-df-convert:hover {\n",
              "      background-color: #E2EBFA;\n",
              "      box-shadow: 0px 1px 2px rgba(60, 64, 67, 0.3), 0px 1px 3px 1px rgba(60, 64, 67, 0.15);\n",
              "      fill: #174EA6;\n",
              "    }\n",
              "\n",
              "    [theme=dark] .colab-df-convert {\n",
              "      background-color: #3B4455;\n",
              "      fill: #D2E3FC;\n",
              "    }\n",
              "\n",
              "    [theme=dark] .colab-df-convert:hover {\n",
              "      background-color: #434B5C;\n",
              "      box-shadow: 0px 1px 3px 1px rgba(0, 0, 0, 0.15);\n",
              "      filter: drop-shadow(0px 1px 2px rgba(0, 0, 0, 0.3));\n",
              "      fill: #FFFFFF;\n",
              "    }\n",
              "  </style>\n",
              "\n",
              "      <script>\n",
              "        const buttonEl =\n",
              "          document.querySelector('#df-193c6118-257c-4a6d-af2d-2999b71c1c3e button.colab-df-convert');\n",
              "        buttonEl.style.display =\n",
              "          google.colab.kernel.accessAllowed ? 'block' : 'none';\n",
              "\n",
              "        async function convertToInteractive(key) {\n",
              "          const element = document.querySelector('#df-193c6118-257c-4a6d-af2d-2999b71c1c3e');\n",
              "          const dataTable =\n",
              "            await google.colab.kernel.invokeFunction('convertToInteractive',\n",
              "                                                     [key], {});\n",
              "          if (!dataTable) return;\n",
              "\n",
              "          const docLinkHtml = 'Like what you see? Visit the ' +\n",
              "            '<a target=\"_blank\" href=https://colab.research.google.com/notebooks/data_table.ipynb>data table notebook</a>'\n",
              "            + ' to learn more about interactive tables.';\n",
              "          element.innerHTML = '';\n",
              "          dataTable['output_type'] = 'display_data';\n",
              "          await google.colab.output.renderOutput(dataTable, element);\n",
              "          const docLink = document.createElement('div');\n",
              "          docLink.innerHTML = docLinkHtml;\n",
              "          element.appendChild(docLink);\n",
              "        }\n",
              "      </script>\n",
              "    </div>\n",
              "  </div>\n",
              "  "
            ]
          },
          "metadata": {},
          "execution_count": 24
        }
      ]
    },
    {
      "cell_type": "code",
      "source": [
        "data.game.value_counts()"
      ],
      "metadata": {
        "colab": {
          "base_uri": "https://localhost:8080/"
        },
        "id": "XfFpd90jA3dw",
        "outputId": "b339c0cc-e7b6-4079-b2b5-e594d08f0ed0"
      },
      "execution_count": 25,
      "outputs": [
        {
          "output_type": "execute_result",
          "data": {
            "text/plain": [
              "GOW          20623\n",
              "HGL          17128\n",
              "Cyberpunk    14595\n",
              "ELR           9617\n",
              "MHW           8957\n",
              "Stardew       8630\n",
              "Name: game, dtype: int64"
            ]
          },
          "metadata": {},
          "execution_count": 25
        }
      ]
    },
    {
      "cell_type": "code",
      "source": [
        "# Replace 9.0 with 0.0 in \"labels\" column - accidentally added during labelling\n",
        "data[\"labels\"].replace(9.0, 0.0, inplace=True)\n",
        "\n",
        "# Print updated value counts of labels\n",
        "print(data[\"labels\"].value_counts())"
      ],
      "metadata": {
        "colab": {
          "base_uri": "https://localhost:8080/"
        },
        "id": "2-xo0EDSgWy-",
        "outputId": "d254ca9f-948f-4972-dfcc-f56d9ae8e079"
      },
      "execution_count": 26,
      "outputs": [
        {
          "output_type": "stream",
          "name": "stdout",
          "text": [
            " 0.0    4340\n",
            " 1.0    1175\n",
            "-1.0     578\n",
            "Name: labels, dtype: int64\n"
          ]
        }
      ]
    },
    {
      "cell_type": "code",
      "source": [
        "from nltk.sentiment.vader import SentimentIntensityAnalyzer\n",
        "def unlist(list):\n",
        "    words=''\n",
        "    for item in list:\n",
        "        words+=item+' '\n",
        "    return words"
      ],
      "metadata": {
        "id": "_zQe3c81Sg4C"
      },
      "execution_count": 27,
      "outputs": []
    },
    {
      "cell_type": "code",
      "source": [
        "nltk.download('vader_lexicon')"
      ],
      "metadata": {
        "colab": {
          "base_uri": "https://localhost:8080/"
        },
        "id": "UGjQ2RQUSpmu",
        "outputId": "011341a1-3860-4ead-d0d4-73cce310cbf1"
      },
      "execution_count": 28,
      "outputs": [
        {
          "output_type": "stream",
          "name": "stderr",
          "text": [
            "[nltk_data] Downloading package vader_lexicon to /root/nltk_data...\n",
            "[nltk_data]   Package vader_lexicon is already up-to-date!\n"
          ]
        },
        {
          "output_type": "execute_result",
          "data": {
            "text/plain": [
              "True"
            ]
          },
          "metadata": {},
          "execution_count": 28
        }
      ]
    },
    {
      "cell_type": "code",
      "source": [
        "def expand_contractions(text):\n",
        "  return contractions.fix(text)"
      ],
      "metadata": {
        "id": "wYP9AO-vBB9v"
      },
      "execution_count": 29,
      "outputs": []
    },
    {
      "cell_type": "code",
      "source": [
        "def accented_characters_removal(text):\n",
        "    # this is a docstring\n",
        "    \"\"\"\n",
        "    The function will remove accented characters from the \n",
        "    text contained within the Dataset.\n",
        "       \n",
        "    arguments:\n",
        "        input_text: \"text\" of type \"String\". \n",
        "                    \n",
        "    return:\n",
        "        value: \"text\" with removed accented characters.\n",
        "        \n",
        "    Example:\n",
        "    Input : Málaga, àéêöhello\n",
        "    Output : Malaga, aeeohello    \n",
        "        \n",
        "    \"\"\"\n",
        "    # Remove accented characters from text using unidecode.\n",
        "    # Unidecode() - It takes unicode data & tries to represent it to ASCII characters. \n",
        "    text = unidecode.unidecode(text)\n",
        "    return text"
      ],
      "metadata": {
        "id": "JZeeFnQYBd9s"
      },
      "execution_count": 30,
      "outputs": []
    },
    {
      "cell_type": "code",
      "source": [
        "def preprocess_tweets(tweet):\n",
        "  text = tweet.lower()\n",
        "  text = re.sub(\"\\B\\#[A-z0-9_]+\\\\b\", \"\", text)\n",
        "  text=re.sub(r\"(https?:\\/\\/)?([\\da-z\\.-]+)\\.([a-z\\.]{2,6})([\\/\\w\\.-]*)\", \"\",text)\n",
        "  # text=re.sub(r\"\\ [A-Za-z]*\\.com\", \" \",text)\n",
        "  text = re.sub(\"[-a-zA-Z0-9@:%._\\+~#=]{1,256}\\.[a-zA-Z0-9()]{1,6}\\b([-a-zA-Z0-9()@:%_\\+.~#?&//=]*)\", \" \", text) #corrected regex\n",
        "  text = re.sub(\"\\B\\@[A-z0-9_]+\\\\b\", \"\", text)\n",
        "  text=accented_characters_removal(text)\n",
        "  text=expand_contractions(text)\n",
        "  return text"
      ],
      "metadata": {
        "id": "_BILYe-7CO3r"
      },
      "execution_count": 31,
      "outputs": []
    },
    {
      "cell_type": "code",
      "source": [
        "cleantext=[]\n",
        "i=0\n",
        "for item in data['rawContent']:\n",
        "    if type(item)==float:\n",
        "      item = str(item)\n",
        "    words=preprocess_tweets(item)\n",
        "    cleantext+=[words]\n",
        "    i+=1\n",
        "    if i%500==0:\n",
        "      print(i)\n",
        "data['vader_preprocessing_text'] = cleantext\n",
        "data"
      ],
      "metadata": {
        "colab": {
          "base_uri": "https://localhost:8080/",
          "height": 1000
        },
        "id": "0XIvEdZlCT_g",
        "outputId": "3644c486-a82f-45cd-f23f-b957388ca278"
      },
      "execution_count": 32,
      "outputs": [
        {
          "output_type": "stream",
          "name": "stdout",
          "text": [
            "500\n",
            "1000\n",
            "1500\n",
            "2000\n",
            "2500\n",
            "3000\n",
            "3500\n",
            "4000\n",
            "4500\n",
            "5000\n",
            "5500\n",
            "6000\n",
            "6500\n",
            "7000\n",
            "7500\n",
            "8000\n",
            "8500\n",
            "9000\n",
            "9500\n",
            "10000\n",
            "10500\n",
            "11000\n",
            "11500\n",
            "12000\n",
            "12500\n",
            "13000\n",
            "13500\n",
            "14000\n",
            "14500\n",
            "15000\n",
            "15500\n",
            "16000\n",
            "16500\n",
            "17000\n",
            "17500\n",
            "18000\n",
            "18500\n",
            "19000\n",
            "19500\n",
            "20000\n",
            "20500\n",
            "21000\n",
            "21500\n",
            "22000\n",
            "22500\n",
            "23000\n",
            "23500\n",
            "24000\n",
            "24500\n",
            "25000\n",
            "25500\n",
            "26000\n",
            "26500\n",
            "27000\n",
            "27500\n",
            "28000\n",
            "28500\n",
            "29000\n",
            "29500\n",
            "30000\n",
            "30500\n",
            "31000\n",
            "31500\n",
            "32000\n",
            "32500\n",
            "33000\n",
            "33500\n",
            "34000\n",
            "34500\n",
            "35000\n",
            "35500\n",
            "36000\n",
            "36500\n",
            "37000\n",
            "37500\n",
            "38000\n",
            "38500\n",
            "39000\n",
            "39500\n",
            "40000\n",
            "40500\n",
            "41000\n",
            "41500\n",
            "42000\n",
            "42500\n",
            "43000\n",
            "43500\n",
            "44000\n",
            "44500\n",
            "45000\n",
            "45500\n",
            "46000\n",
            "46500\n",
            "47000\n",
            "47500\n",
            "48000\n",
            "48500\n",
            "49000\n",
            "49500\n",
            "50000\n",
            "50500\n",
            "51000\n",
            "51500\n",
            "52000\n",
            "52500\n",
            "53000\n",
            "53500\n",
            "54000\n",
            "54500\n",
            "55000\n",
            "55500\n",
            "56000\n",
            "56500\n",
            "57000\n",
            "57500\n",
            "58000\n",
            "58500\n",
            "59000\n",
            "59500\n",
            "60000\n",
            "60500\n",
            "61000\n",
            "61500\n",
            "62000\n",
            "62500\n",
            "63000\n",
            "63500\n",
            "64000\n",
            "64500\n",
            "65000\n",
            "65500\n",
            "66000\n",
            "66500\n",
            "67000\n",
            "67500\n",
            "68000\n",
            "68500\n",
            "69000\n",
            "69500\n",
            "70000\n",
            "70500\n",
            "71000\n",
            "71500\n",
            "72000\n",
            "72500\n",
            "73000\n",
            "73500\n",
            "74000\n",
            "74500\n",
            "75000\n",
            "75500\n",
            "76000\n",
            "76500\n",
            "77000\n",
            "77500\n",
            "78000\n",
            "78500\n",
            "79000\n",
            "79500\n"
          ]
        },
        {
          "output_type": "execute_result",
          "data": {
            "text/plain": [
              "             username verified  followersCount  \\\n",
              "0              G_F758    FALSE             343   \n",
              "1        DeVinSimmons    FALSE             421   \n",
              "2             cozzboz    FALSE             117   \n",
              "3      Fantastic_4ork    FALSE             486   \n",
              "4       jordan_sebas2    FALSE             487   \n",
              "...               ...      ...             ...   \n",
              "79545         Abfun77    False             382   \n",
              "79546        Vivern96    False               7   \n",
              "79547   EllieCupcakes    False             263   \n",
              "79548      Pinknotess    False               0   \n",
              "79549  TheAshenHollow    False            2405   \n",
              "\n",
              "                                              rawContent             date  \\\n",
              "0      Hogwarts Legacy Flight the Good Flight (SILVER...  18/2/2023 12:47   \n",
              "1      Oh and how smooth getting on and off the broom...   16/2/2023 5:27   \n",
              "2      Playing endless hours of #HogwartsLegacy got m...  16/2/2023 14:34   \n",
              "3      Hey #AvalancheSoftware how about that #photomo...  15/2/2023 19:24   \n",
              "4      Hogwarts Legacy Flight the Good Flight (SILVER...  15/2/2023 19:57   \n",
              "...                                                  ...              ...   \n",
              "79545  Video of ELDEN RING: All Quests in Order + Mis...   22/2/2023 0:17   \n",
              "79546  Red Wolf of Radagon RL1 NoHit #ELDEN_RING #ELD...  16/6/2022 14:29   \n",
              "79547  Fanart of Miruku with her Apostle (Slim) and M...   3/3/2023 21:01   \n",
              "79548  This comic is definitely worth reading! Come c...   19/3/2023 3:42   \n",
              "79549  New video is out now! Ã°ÂÂÂ Who the fudge i...   11/6/2022 2:42   \n",
              "\n",
              "      replyCount retweetCount  likeCount  \\\n",
              "0              0            0        1.0   \n",
              "1              0            0        0.0   \n",
              "2              0            0        0.0   \n",
              "3              0            0        3.0   \n",
              "4              0            0        0.0   \n",
              "...          ...          ...        ...   \n",
              "79545          0            7       79.0   \n",
              "79546          0            0        1.0   \n",
              "79547          1            7       32.0   \n",
              "79548          0            0        0.0   \n",
              "79549          0            5       19.0   \n",
              "\n",
              "                                                     url  \\\n",
              "0      https://twitter.com/G_F758/status/162692648616...   \n",
              "1      https://twitter.com/DeVinSimmons/status/162609...   \n",
              "2      https://twitter.com/cozzboz/status/16262284309...   \n",
              "3      https://twitter.com/Fantastic_4ork/status/1625...   \n",
              "4      https://twitter.com/jordan_sebas2/status/16259...   \n",
              "...                                                  ...   \n",
              "79545  https://twitter.com/Abfun77/status/16281871857...   \n",
              "79546  https://twitter.com/Vivern96/status/1537442134...   \n",
              "79547  https://twitter.com/EllieCupcakes/status/16317...   \n",
              "79548  https://twitter.com/Pinknotess/status/16372984...   \n",
              "79549  https://twitter.com/TheAshenHollow/status/1535...   \n",
              "\n",
              "                                                hashtags game  labels  \\\n",
              "0      ['PlayStationTrophy', 'PS5Share', 'HogwartsLeg...  HGL     0.0   \n",
              "1                                     ['HogwartsLegacy']  HGL     0.0   \n",
              "2                                     ['HogwartsLegacy']  HGL     0.0   \n",
              "3      ['AvalancheSoftware', 'photomode', 'hogwartsle...  HGL     0.0   \n",
              "4      ['PlayStationTrophy', 'PS5Share', 'HogwartsLeg...  HGL     0.0   \n",
              "...                                                  ...  ...     ...   \n",
              "79545  ['ELDENRING', 'ELDEN_RING', 'guide', 'gaming',...  ELR     NaN   \n",
              "79546      ['ELDEN_RING', 'ELDENRING', 'gaming', 'game']  ELR     NaN   \n",
              "79547                      ['EldenRing', 'EldenRingArt']  ELR     NaN   \n",
              "79548        ['EldenRing', 'illusrtationart', 'Romance']  ELR     NaN   \n",
              "79549                        ['ELDEN_RING', 'EldenRing']  ELR     NaN   \n",
              "\n",
              "                                               processed  \\\n",
              "0      ['hogwarts', 'legacy', 'flight', 'the', 'good'...   \n",
              "1      ['oh', 'and', 'how', 'smooth', 'get', 'on', 'a...   \n",
              "2      ['play', 'endless', 'hours', 'of', 'get', 'me'...   \n",
              "3      ['hey', 'how', 'about', 'that', 'for', 'd', 'd...   \n",
              "4      ['hogwarts', 'legacy', 'flight', 'the', 'good'...   \n",
              "...                                                  ...   \n",
              "79545  ['video', 'of', 'elder', 'ring', 'all', 'quest...   \n",
              "79546  ['red', 'wolf', 'of', 'dragon', 'rl1', 'not', ...   \n",
              "79547  ['apart', 'of', 'miruku', 'with', 'her', 'apos...   \n",
              "79548  ['this', 'comic', 'be', 'definitely', 'worth',...   \n",
              "79549  ['new', 'video', 'be', 'out', 'now', 'd', 'who...   \n",
              "\n",
              "                                vader_preprocessing_text  \n",
              "0      hogwarts legacy flight the good flight (silver...  \n",
              "1      oh and how smooth getting on and off the broom...  \n",
              "2      playing endless hours of  got me in the mood f...  \n",
              "3      hey  how about that  for  ? adegaa$?a*adegaaa ...  \n",
              "4      hogwarts legacy flight the good flight (silver...  \n",
              "...                                                  ...  \n",
              "79545  video of elden ring: all quests in order + mis...  \n",
              "79546                 red wolf of radagon rl1 nohit       \n",
              "79547  fanart of miruku with her apostle (slim) and m...  \n",
              "79548  this comic is definitely worth reading! come c...  \n",
              "79549  new video is out now! adegaaa who the fudge is...  \n",
              "\n",
              "[79550 rows x 14 columns]"
            ],
            "text/html": [
              "\n",
              "  <div id=\"df-d2fad5d5-34e2-4369-9bc8-6f2ed514bcae\">\n",
              "    <div class=\"colab-df-container\">\n",
              "      <div>\n",
              "<style scoped>\n",
              "    .dataframe tbody tr th:only-of-type {\n",
              "        vertical-align: middle;\n",
              "    }\n",
              "\n",
              "    .dataframe tbody tr th {\n",
              "        vertical-align: top;\n",
              "    }\n",
              "\n",
              "    .dataframe thead th {\n",
              "        text-align: right;\n",
              "    }\n",
              "</style>\n",
              "<table border=\"1\" class=\"dataframe\">\n",
              "  <thead>\n",
              "    <tr style=\"text-align: right;\">\n",
              "      <th></th>\n",
              "      <th>username</th>\n",
              "      <th>verified</th>\n",
              "      <th>followersCount</th>\n",
              "      <th>rawContent</th>\n",
              "      <th>date</th>\n",
              "      <th>replyCount</th>\n",
              "      <th>retweetCount</th>\n",
              "      <th>likeCount</th>\n",
              "      <th>url</th>\n",
              "      <th>hashtags</th>\n",
              "      <th>game</th>\n",
              "      <th>labels</th>\n",
              "      <th>processed</th>\n",
              "      <th>vader_preprocessing_text</th>\n",
              "    </tr>\n",
              "  </thead>\n",
              "  <tbody>\n",
              "    <tr>\n",
              "      <th>0</th>\n",
              "      <td>G_F758</td>\n",
              "      <td>FALSE</td>\n",
              "      <td>343</td>\n",
              "      <td>Hogwarts Legacy Flight the Good Flight (SILVER...</td>\n",
              "      <td>18/2/2023 12:47</td>\n",
              "      <td>0</td>\n",
              "      <td>0</td>\n",
              "      <td>1.0</td>\n",
              "      <td>https://twitter.com/G_F758/status/162692648616...</td>\n",
              "      <td>['PlayStationTrophy', 'PS5Share', 'HogwartsLeg...</td>\n",
              "      <td>HGL</td>\n",
              "      <td>0.0</td>\n",
              "      <td>['hogwarts', 'legacy', 'flight', 'the', 'good'...</td>\n",
              "      <td>hogwarts legacy flight the good flight (silver...</td>\n",
              "    </tr>\n",
              "    <tr>\n",
              "      <th>1</th>\n",
              "      <td>DeVinSimmons</td>\n",
              "      <td>FALSE</td>\n",
              "      <td>421</td>\n",
              "      <td>Oh and how smooth getting on and off the broom...</td>\n",
              "      <td>16/2/2023 5:27</td>\n",
              "      <td>0</td>\n",
              "      <td>0</td>\n",
              "      <td>0.0</td>\n",
              "      <td>https://twitter.com/DeVinSimmons/status/162609...</td>\n",
              "      <td>['HogwartsLegacy']</td>\n",
              "      <td>HGL</td>\n",
              "      <td>0.0</td>\n",
              "      <td>['oh', 'and', 'how', 'smooth', 'get', 'on', 'a...</td>\n",
              "      <td>oh and how smooth getting on and off the broom...</td>\n",
              "    </tr>\n",
              "    <tr>\n",
              "      <th>2</th>\n",
              "      <td>cozzboz</td>\n",
              "      <td>FALSE</td>\n",
              "      <td>117</td>\n",
              "      <td>Playing endless hours of #HogwartsLegacy got m...</td>\n",
              "      <td>16/2/2023 14:34</td>\n",
              "      <td>0</td>\n",
              "      <td>0</td>\n",
              "      <td>0.0</td>\n",
              "      <td>https://twitter.com/cozzboz/status/16262284309...</td>\n",
              "      <td>['HogwartsLegacy']</td>\n",
              "      <td>HGL</td>\n",
              "      <td>0.0</td>\n",
              "      <td>['play', 'endless', 'hours', 'of', 'get', 'me'...</td>\n",
              "      <td>playing endless hours of  got me in the mood f...</td>\n",
              "    </tr>\n",
              "    <tr>\n",
              "      <th>3</th>\n",
              "      <td>Fantastic_4ork</td>\n",
              "      <td>FALSE</td>\n",
              "      <td>486</td>\n",
              "      <td>Hey #AvalancheSoftware how about that #photomo...</td>\n",
              "      <td>15/2/2023 19:24</td>\n",
              "      <td>0</td>\n",
              "      <td>0</td>\n",
              "      <td>3.0</td>\n",
              "      <td>https://twitter.com/Fantastic_4ork/status/1625...</td>\n",
              "      <td>['AvalancheSoftware', 'photomode', 'hogwartsle...</td>\n",
              "      <td>HGL</td>\n",
              "      <td>0.0</td>\n",
              "      <td>['hey', 'how', 'about', 'that', 'for', 'd', 'd...</td>\n",
              "      <td>hey  how about that  for  ? adegaa$?a*adegaaa ...</td>\n",
              "    </tr>\n",
              "    <tr>\n",
              "      <th>4</th>\n",
              "      <td>jordan_sebas2</td>\n",
              "      <td>FALSE</td>\n",
              "      <td>487</td>\n",
              "      <td>Hogwarts Legacy Flight the Good Flight (SILVER...</td>\n",
              "      <td>15/2/2023 19:57</td>\n",
              "      <td>0</td>\n",
              "      <td>0</td>\n",
              "      <td>0.0</td>\n",
              "      <td>https://twitter.com/jordan_sebas2/status/16259...</td>\n",
              "      <td>['PlayStationTrophy', 'PS5Share', 'HogwartsLeg...</td>\n",
              "      <td>HGL</td>\n",
              "      <td>0.0</td>\n",
              "      <td>['hogwarts', 'legacy', 'flight', 'the', 'good'...</td>\n",
              "      <td>hogwarts legacy flight the good flight (silver...</td>\n",
              "    </tr>\n",
              "    <tr>\n",
              "      <th>...</th>\n",
              "      <td>...</td>\n",
              "      <td>...</td>\n",
              "      <td>...</td>\n",
              "      <td>...</td>\n",
              "      <td>...</td>\n",
              "      <td>...</td>\n",
              "      <td>...</td>\n",
              "      <td>...</td>\n",
              "      <td>...</td>\n",
              "      <td>...</td>\n",
              "      <td>...</td>\n",
              "      <td>...</td>\n",
              "      <td>...</td>\n",
              "      <td>...</td>\n",
              "    </tr>\n",
              "    <tr>\n",
              "      <th>79545</th>\n",
              "      <td>Abfun77</td>\n",
              "      <td>False</td>\n",
              "      <td>382</td>\n",
              "      <td>Video of ELDEN RING: All Quests in Order + Mis...</td>\n",
              "      <td>22/2/2023 0:17</td>\n",
              "      <td>0</td>\n",
              "      <td>7</td>\n",
              "      <td>79.0</td>\n",
              "      <td>https://twitter.com/Abfun77/status/16281871857...</td>\n",
              "      <td>['ELDENRING', 'ELDEN_RING', 'guide', 'gaming',...</td>\n",
              "      <td>ELR</td>\n",
              "      <td>NaN</td>\n",
              "      <td>['video', 'of', 'elder', 'ring', 'all', 'quest...</td>\n",
              "      <td>video of elden ring: all quests in order + mis...</td>\n",
              "    </tr>\n",
              "    <tr>\n",
              "      <th>79546</th>\n",
              "      <td>Vivern96</td>\n",
              "      <td>False</td>\n",
              "      <td>7</td>\n",
              "      <td>Red Wolf of Radagon RL1 NoHit #ELDEN_RING #ELD...</td>\n",
              "      <td>16/6/2022 14:29</td>\n",
              "      <td>0</td>\n",
              "      <td>0</td>\n",
              "      <td>1.0</td>\n",
              "      <td>https://twitter.com/Vivern96/status/1537442134...</td>\n",
              "      <td>['ELDEN_RING', 'ELDENRING', 'gaming', 'game']</td>\n",
              "      <td>ELR</td>\n",
              "      <td>NaN</td>\n",
              "      <td>['red', 'wolf', 'of', 'dragon', 'rl1', 'not', ...</td>\n",
              "      <td>red wolf of radagon rl1 nohit</td>\n",
              "    </tr>\n",
              "    <tr>\n",
              "      <th>79547</th>\n",
              "      <td>EllieCupcakes</td>\n",
              "      <td>False</td>\n",
              "      <td>263</td>\n",
              "      <td>Fanart of Miruku with her Apostle (Slim) and M...</td>\n",
              "      <td>3/3/2023 21:01</td>\n",
              "      <td>1</td>\n",
              "      <td>7</td>\n",
              "      <td>32.0</td>\n",
              "      <td>https://twitter.com/EllieCupcakes/status/16317...</td>\n",
              "      <td>['EldenRing', 'EldenRingArt']</td>\n",
              "      <td>ELR</td>\n",
              "      <td>NaN</td>\n",
              "      <td>['apart', 'of', 'miruku', 'with', 'her', 'apos...</td>\n",
              "      <td>fanart of miruku with her apostle (slim) and m...</td>\n",
              "    </tr>\n",
              "    <tr>\n",
              "      <th>79548</th>\n",
              "      <td>Pinknotess</td>\n",
              "      <td>False</td>\n",
              "      <td>0</td>\n",
              "      <td>This comic is definitely worth reading! Come c...</td>\n",
              "      <td>19/3/2023 3:42</td>\n",
              "      <td>0</td>\n",
              "      <td>0</td>\n",
              "      <td>0.0</td>\n",
              "      <td>https://twitter.com/Pinknotess/status/16372984...</td>\n",
              "      <td>['EldenRing', 'illusrtationart', 'Romance']</td>\n",
              "      <td>ELR</td>\n",
              "      <td>NaN</td>\n",
              "      <td>['this', 'comic', 'be', 'definitely', 'worth',...</td>\n",
              "      <td>this comic is definitely worth reading! come c...</td>\n",
              "    </tr>\n",
              "    <tr>\n",
              "      <th>79549</th>\n",
              "      <td>TheAshenHollow</td>\n",
              "      <td>False</td>\n",
              "      <td>2405</td>\n",
              "      <td>New video is out now! Ã°ÂÂÂ Who the fudge i...</td>\n",
              "      <td>11/6/2022 2:42</td>\n",
              "      <td>0</td>\n",
              "      <td>5</td>\n",
              "      <td>19.0</td>\n",
              "      <td>https://twitter.com/TheAshenHollow/status/1535...</td>\n",
              "      <td>['ELDEN_RING', 'EldenRing']</td>\n",
              "      <td>ELR</td>\n",
              "      <td>NaN</td>\n",
              "      <td>['new', 'video', 'be', 'out', 'now', 'd', 'who...</td>\n",
              "      <td>new video is out now! adegaaa who the fudge is...</td>\n",
              "    </tr>\n",
              "  </tbody>\n",
              "</table>\n",
              "<p>79550 rows × 14 columns</p>\n",
              "</div>\n",
              "      <button class=\"colab-df-convert\" onclick=\"convertToInteractive('df-d2fad5d5-34e2-4369-9bc8-6f2ed514bcae')\"\n",
              "              title=\"Convert this dataframe to an interactive table.\"\n",
              "              style=\"display:none;\">\n",
              "        \n",
              "  <svg xmlns=\"http://www.w3.org/2000/svg\" height=\"24px\"viewBox=\"0 0 24 24\"\n",
              "       width=\"24px\">\n",
              "    <path d=\"M0 0h24v24H0V0z\" fill=\"none\"/>\n",
              "    <path d=\"M18.56 5.44l.94 2.06.94-2.06 2.06-.94-2.06-.94-.94-2.06-.94 2.06-2.06.94zm-11 1L8.5 8.5l.94-2.06 2.06-.94-2.06-.94L8.5 2.5l-.94 2.06-2.06.94zm10 10l.94 2.06.94-2.06 2.06-.94-2.06-.94-.94-2.06-.94 2.06-2.06.94z\"/><path d=\"M17.41 7.96l-1.37-1.37c-.4-.4-.92-.59-1.43-.59-.52 0-1.04.2-1.43.59L10.3 9.45l-7.72 7.72c-.78.78-.78 2.05 0 2.83L4 21.41c.39.39.9.59 1.41.59.51 0 1.02-.2 1.41-.59l7.78-7.78 2.81-2.81c.8-.78.8-2.07 0-2.86zM5.41 20L4 18.59l7.72-7.72 1.47 1.35L5.41 20z\"/>\n",
              "  </svg>\n",
              "      </button>\n",
              "      \n",
              "  <style>\n",
              "    .colab-df-container {\n",
              "      display:flex;\n",
              "      flex-wrap:wrap;\n",
              "      gap: 12px;\n",
              "    }\n",
              "\n",
              "    .colab-df-convert {\n",
              "      background-color: #E8F0FE;\n",
              "      border: none;\n",
              "      border-radius: 50%;\n",
              "      cursor: pointer;\n",
              "      display: none;\n",
              "      fill: #1967D2;\n",
              "      height: 32px;\n",
              "      padding: 0 0 0 0;\n",
              "      width: 32px;\n",
              "    }\n",
              "\n",
              "    .colab-df-convert:hover {\n",
              "      background-color: #E2EBFA;\n",
              "      box-shadow: 0px 1px 2px rgba(60, 64, 67, 0.3), 0px 1px 3px 1px rgba(60, 64, 67, 0.15);\n",
              "      fill: #174EA6;\n",
              "    }\n",
              "\n",
              "    [theme=dark] .colab-df-convert {\n",
              "      background-color: #3B4455;\n",
              "      fill: #D2E3FC;\n",
              "    }\n",
              "\n",
              "    [theme=dark] .colab-df-convert:hover {\n",
              "      background-color: #434B5C;\n",
              "      box-shadow: 0px 1px 3px 1px rgba(0, 0, 0, 0.15);\n",
              "      filter: drop-shadow(0px 1px 2px rgba(0, 0, 0, 0.3));\n",
              "      fill: #FFFFFF;\n",
              "    }\n",
              "  </style>\n",
              "\n",
              "      <script>\n",
              "        const buttonEl =\n",
              "          document.querySelector('#df-d2fad5d5-34e2-4369-9bc8-6f2ed514bcae button.colab-df-convert');\n",
              "        buttonEl.style.display =\n",
              "          google.colab.kernel.accessAllowed ? 'block' : 'none';\n",
              "\n",
              "        async function convertToInteractive(key) {\n",
              "          const element = document.querySelector('#df-d2fad5d5-34e2-4369-9bc8-6f2ed514bcae');\n",
              "          const dataTable =\n",
              "            await google.colab.kernel.invokeFunction('convertToInteractive',\n",
              "                                                     [key], {});\n",
              "          if (!dataTable) return;\n",
              "\n",
              "          const docLinkHtml = 'Like what you see? Visit the ' +\n",
              "            '<a target=\"_blank\" href=https://colab.research.google.com/notebooks/data_table.ipynb>data table notebook</a>'\n",
              "            + ' to learn more about interactive tables.';\n",
              "          element.innerHTML = '';\n",
              "          dataTable['output_type'] = 'display_data';\n",
              "          await google.colab.output.renderOutput(dataTable, element);\n",
              "          const docLink = document.createElement('div');\n",
              "          docLink.innerHTML = docLinkHtml;\n",
              "          element.appendChild(docLink);\n",
              "        }\n",
              "      </script>\n",
              "    </div>\n",
              "  </div>\n",
              "  "
            ]
          },
          "metadata": {},
          "execution_count": 32
        }
      ]
    },
    {
      "cell_type": "code",
      "source": [
        "def compute_vader_scores_v2(df, label):\n",
        "    sid = SentimentIntensityAnalyzer()\n",
        "    df[\"vader_neg\"] = df[label].apply(lambda x: sid.polarity_scores(x)[\"neg\"])\n",
        "    df[\"vader_neu\"] = df[label].apply(lambda x: sid.polarity_scores(x)[\"neu\"])\n",
        "    df[\"vader_pos\"] = df[label].apply(lambda x: sid.polarity_scores(x)[\"pos\"])\n",
        "    df[\"vader_comp\"] = df[label].apply(lambda x: sid.polarity_scores(x)[\"compound\"])    \n",
        "    return df"
      ],
      "metadata": {
        "id": "QTon3gqif90C"
      },
      "execution_count": 33,
      "outputs": []
    },
    {
      "cell_type": "code",
      "source": [
        "df3 = compute_vader_scores_v2(data,'vader_preprocessing_text')"
      ],
      "metadata": {
        "id": "Md-w7pE0gOMH"
      },
      "execution_count": 34,
      "outputs": []
    },
    {
      "cell_type": "code",
      "source": [
        "df3.reset_index(drop = True,inplace = True)"
      ],
      "metadata": {
        "id": "nS26GRqJgRwG"
      },
      "execution_count": 35,
      "outputs": []
    },
    {
      "cell_type": "code",
      "source": [
        "class0=[]\n",
        "for i in range(len(df3)):\n",
        "    if df3.loc[i,'vader_neg']>0:\n",
        "        class0+=[-1]\n",
        "    elif df3.loc[i,'vader_pos']>0:\n",
        "        class0+=[1]        \n",
        "    else:\n",
        "        class0+=[0]   "
      ],
      "metadata": {
        "id": "I1ro9AEdgVC4"
      },
      "execution_count": 36,
      "outputs": []
    },
    {
      "cell_type": "code",
      "source": [
        "df3['class']=class0\n",
        "df3['class'].value_counts()"
      ],
      "metadata": {
        "colab": {
          "base_uri": "https://localhost:8080/"
        },
        "id": "06v9lvhFgXzO",
        "outputId": "8d5edddf-f730-4ad1-95a3-4f00f67c4086"
      },
      "execution_count": 37,
      "outputs": [
        {
          "output_type": "execute_result",
          "data": {
            "text/plain": [
              " 1    28597\n",
              " 0    27696\n",
              "-1    23257\n",
              "Name: class, dtype: int64"
            ]
          },
          "metadata": {},
          "execution_count": 37
        }
      ]
    },
    {
      "cell_type": "code",
      "source": [
        "test = df3[df3.labels.notnull()]"
      ],
      "metadata": {
        "id": "nhFlVK40gbM9"
      },
      "execution_count": 38,
      "outputs": []
    },
    {
      "cell_type": "code",
      "source": [
        "predicted= test['class']\n",
        "accuracy_score=metrics.accuracy_score(predicted,test['labels'].astype('int'))"
      ],
      "metadata": {
        "id": "UwBf5sIegfTV"
      },
      "execution_count": 39,
      "outputs": []
    },
    {
      "cell_type": "code",
      "source": [
        "precision = round(metrics.precision_score(test['labels'].astype('int'),predicted, average=\"weighted\"), 3)\n",
        "recall = round(metrics.recall_score(test['labels'].astype('int'),predicted, average=\"weighted\"), 3)\n",
        "nb_f1_score = round(metrics.f1_score(test['labels'].astype('int'), predicted, average=\"weighted\"), 3)"
      ],
      "metadata": {
        "id": "wL9KZtFJgyhT"
      },
      "execution_count": 40,
      "outputs": []
    },
    {
      "cell_type": "code",
      "source": [
        "print(\"Accuracy: \", accuracy_score)\n",
        "print(\"Precision: \", precision)\n",
        "print(\"Recall: \", recall)\n",
        "print(\"F1_score: \", nb_f1_score)"
      ],
      "metadata": {
        "colab": {
          "base_uri": "https://localhost:8080/"
        },
        "id": "6uWZIbgJg3jE",
        "outputId": "ff9d8598-5506-4811-8310-f02ae52a25ee"
      },
      "execution_count": 41,
      "outputs": [
        {
          "output_type": "stream",
          "name": "stdout",
          "text": [
            "Accuracy:  0.4196619071065157\n",
            "Precision:  0.639\n",
            "Recall:  0.42\n",
            "F1_score:  0.466\n"
          ]
        }
      ]
    },
    {
      "cell_type": "code",
      "source": [
        "cm = confusion_matrix(test['labels'].astype('int'), predicted)\n",
        "cmd = ConfusionMatrixDisplay(cm, display_labels=['Negative','Neutral','Positive'])\n",
        "cmd.plot()\n",
        "\n",
        "# Save the plot\n",
        "plt.savefig('confusion_matrix_vader.png')"
      ],
      "metadata": {
        "colab": {
          "base_uri": "https://localhost:8080/",
          "height": 279
        },
        "id": "UEnwzPPhg73z",
        "outputId": "2746d0fc-1d9a-4966-b46e-0de537ca7ded"
      },
      "execution_count": 42,
      "outputs": [
        {
          "output_type": "display_data",
          "data": {
            "text/plain": [
              "<Figure size 432x288 with 2 Axes>"
            ],
            "image/png": "[encoded data removed]"
          },
          "metadata": {
            "needs_background": "light"
          }
        }
      ]
    },
    {
      "cell_type": "code",
      "source": [
        "ax= plt.subplot()\n",
        "sns.heatmap(cm, annot=True, fmt='g', ax=ax);  #annot=True to annotate cells, ftm='g' to disable scientific notation\n",
        "\n",
        "# labels, title and ticks\n",
        "ax.set_xlabel('Predicted labels');ax.set_ylabel('True labels'); \n",
        "ax.set_title('Confusion Matrix');\n",
        "ax.xaxis.set_ticklabels(['Negative', 'Neutral','Positive']); ax.yaxis.set_ticklabels(['Negative', 'Neutral','Positive']);"
      ],
      "metadata": {
        "colab": {
          "base_uri": "https://localhost:8080/",
          "height": 295
        },
        "id": "EYyw5T_qhRfy",
        "outputId": "2019ac0d-b442-497a-92fb-5e90b3cd6879"
      },
      "execution_count": 43,
      "outputs": [
        {
          "output_type": "display_data",
          "data": {
            "text/plain": [
              "<Figure size 432x288 with 2 Axes>"
            ],
            "image/png": "[encoded data removed]"
          },
          "metadata": {
            "needs_background": "light"
          }
        }
      ]
    },
    {
      "cell_type": "code",
      "source": [
        "def sentiment_analysis(df):\n",
        " def getSubjectivity(text):\n",
        "   return TextBlob(text).sentiment.subjectivity\n",
        "  \n",
        " #Create a function to get the polarity\n",
        " def getPolarity(text):\n",
        "   return TextBlob(text).sentiment.polarity\n",
        "  \n",
        " #Create two new columns ‘Subjectivity’ & ‘Polarity’\n",
        " df[\"TextBlob_Subjectivity\"] =   df[\"vader_preprocessing_text\"].apply(getSubjectivity)\n",
        " df[\"TextBlob_Polarity\"] = df[\"vader_preprocessing_text\"].apply(getPolarity)\n",
        " def getAnalysis(score):\n",
        "  if score < 0:\n",
        "    return -1\n",
        "  elif score == 0:\n",
        "    return 0\n",
        "  else:\n",
        "    return 1\n",
        " df[\"TextBlob_Analysis\"] = df[\"TextBlob_Polarity\"].apply(getAnalysis )\n",
        " return df"
      ],
      "metadata": {
        "id": "7U6LqoNqhix4"
      },
      "execution_count": 44,
      "outputs": []
    },
    {
      "cell_type": "code",
      "source": [
        "newdf = sentiment_analysis(df3)"
      ],
      "metadata": {
        "id": "cZ4TPpclhmNg"
      },
      "execution_count": 45,
      "outputs": []
    },
    {
      "cell_type": "code",
      "source": [
        "final_class=[]\n",
        "for ind,i in newdf.iterrows():\n",
        "  if not(pd.isnull(i['labels'])):\n",
        "    final_class.append(i['labels'])\n",
        "  else:\n",
        "    final_class.append(i['class'])\n",
        "\n",
        "newdf['final_class']=final_class"
      ],
      "metadata": {
        "id": "z88Zzbu4honA"
      },
      "execution_count": 46,
      "outputs": []
    },
    {
      "cell_type": "code",
      "source": [
        "testdf = newdf[newdf['labels'].notnull()]"
      ],
      "metadata": {
        "id": "PaOK42x8hrav"
      },
      "execution_count": 47,
      "outputs": []
    },
    {
      "cell_type": "code",
      "source": [
        "predicted= testdf['TextBlob_Analysis']\n",
        "accuracy_score=metrics.accuracy_score(predicted,testdf['labels'].astype('int'))"
      ],
      "metadata": {
        "id": "_pMQKTCShu2-"
      },
      "execution_count": 48,
      "outputs": []
    },
    {
      "cell_type": "code",
      "source": [
        "precision = round(metrics.precision_score(testdf['labels'].astype('int'),predicted, average=\"weighted\"), 3)\n",
        "recall = round(metrics.recall_score(testdf['labels'].astype('int'),predicted, average=\"weighted\"), 3)\n",
        "nb_f1_score = round(metrics.f1_score(testdf['labels'].astype('int'), predicted, average=\"weighted\"), 3)"
      ],
      "metadata": {
        "id": "V8jMs1Brh2Ae"
      },
      "execution_count": 49,
      "outputs": []
    },
    {
      "cell_type": "code",
      "source": [
        "print(\"Accuracy: \", accuracy_score)\n",
        "print(\"Precision: \", precision)\n",
        "print(\"Recall: \", recall)\n",
        "print(\"F1_score: \", nb_f1_score)"
      ],
      "metadata": {
        "colab": {
          "base_uri": "https://localhost:8080/"
        },
        "id": "AZNMWExAh5d3",
        "outputId": "5105c2fb-9cbe-44ce-e260-77b457ab73fc"
      },
      "execution_count": 50,
      "outputs": [
        {
          "output_type": "stream",
          "name": "stdout",
          "text": [
            "Accuracy:  0.45757426555063185\n",
            "Precision:  0.631\n",
            "Recall:  0.458\n",
            "F1_score:  0.496\n"
          ]
        }
      ]
    },
    {
      "cell_type": "code",
      "source": [
        "cm = confusion_matrix(testdf['labels'].astype('int'), predicted)\n",
        "cmd = ConfusionMatrixDisplay(cm, display_labels=['Negative','Neutral','Positive'])\n",
        "cmd.plot()"
      ],
      "metadata": {
        "colab": {
          "base_uri": "https://localhost:8080/",
          "height": 296
        },
        "id": "-696UyC9h7RV",
        "outputId": "55e87458-5721-488f-a57c-5e4a570877e5"
      },
      "execution_count": 51,
      "outputs": [
        {
          "output_type": "execute_result",
          "data": {
            "text/plain": [
              "<sklearn.metrics._plot.confusion_matrix.ConfusionMatrixDisplay at 0x7f75c0e0f100>"
            ]
          },
          "metadata": {},
          "execution_count": 51
        },
        {
          "output_type": "display_data",
          "data": {
            "text/plain": [
              "<Figure size 432x288 with 2 Axes>"
            ],
            "image/png": "[encoded data removed]"
          },
          "metadata": {
            "needs_background": "light"
          }
        }
      ]
    },
    {
      "cell_type": "code",
      "source": [
        "ax= plt.subplot()\n",
        "sns.heatmap(cm, annot=True, fmt='g', ax=ax);  #annot=True to annotate cells, ftm='g' to disable scientific notation\n",
        "\n",
        "# labels, title and ticks\n",
        "ax.set_xlabel('Predicted labels');ax.set_ylabel('True labels'); \n",
        "ax.set_title('Confusion Matrix');\n",
        "ax.xaxis.set_ticklabels(['Negative', 'Neutral','Positive']); ax.yaxis.set_ticklabels(['Negative', 'Neutral','Positive']);"
      ],
      "metadata": {
        "colab": {
          "base_uri": "https://localhost:8080/",
          "height": 295
        },
        "id": "geciFDReh-Be",
        "outputId": "90b42eb9-fd33-43bf-b251-af82cf3bef35"
      },
      "execution_count": 52,
      "outputs": [
        {
          "output_type": "display_data",
          "data": {
            "text/plain": [
              "<Figure size 432x288 with 2 Axes>"
            ],
            "image/png": "[encoded data removed]"
          },
          "metadata": {
            "needs_background": "light"
          }
        }
      ]
    },
    {
      "cell_type": "code",
      "source": [
        "newdf.to_csv('combined_vader_textblob_classified_data.csv',index = False)"
      ],
      "metadata": {
        "id": "XZPdBgWfiDaV"
      },
      "execution_count": 53,
      "outputs": []
    },
    {
      "cell_type": "code",
      "source": [],
      "metadata": {
        "id": "WIJ-qmzZiQck"
      },
      "execution_count": null,
      "outputs": []
    }
  ]
}