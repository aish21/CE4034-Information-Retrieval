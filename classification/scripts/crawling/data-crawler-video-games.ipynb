{
 "cells": [
  {
   "attachments": {},
   "cell_type": "markdown",
   "metadata": {},
   "source": [
    "# Data Crawler for Video Games"
   ]
  },
  {
   "cell_type": "code",
   "execution_count": 15,
   "metadata": {},
   "outputs": [],
   "source": [
    "# get libraries\n",
    "import pandas as pd\n",
    "import snscrape.modules.twitter as sntwitter\n",
    "import itertools\n",
    "import time\n",
    "import re\n",
    "import nltk\n",
    "from nltk.stem import WordNetLemmatizer\n",
    "from nltk.corpus import stopwords\n",
    "from nltk.tokenize import word_tokenize\n",
    "from cleantext import clean\n",
    "from tqdm.notebook import tqdm"
   ]
  },
  {
   "cell_type": "code",
   "execution_count": 3,
   "metadata": {},
   "outputs": [],
   "source": [
    "# Python Dictionary of Countries mapped to their Continents\n",
    "countriesDict = {\n",
    "    \"India\":\"Asia\",\"Singapore\":\"Asia\",\"South Korea\":\"Asia\",\n",
    "    \"United States\":\"North America\",\"Mexico\":\"North America\", \"Canada\":\"North America\", \n",
    "    \"Brazil\":\"South America\", \"Argentina\":\"South Amercia\", \"Uruguay\": \"South America\",\n",
    "    \"Ireland\":\"Europe\",\"Argentina\":\"Europe\",\"Germany\":\"Europe\",\"United Kingdom\":\"Europe\",\n",
    "    \"Italy\":\"Europe\",\"Spain\":\"Europe\",\"Switzerland\":\"Europe\", \"France\":\"Europe\",\"Norway\": \"Europe\",\n",
    "    \"Sweden\": \"Europe\",\"Denmark\": \"Europe\",\"Belgium\":\"Europe\",\"Portugal\":\"Europe\",\n",
    "    \"Netherlands\": \"Europe\", \"Croatia\": \"Europe\",\n",
    "    \"South Africa\":\"Africa\",\"Egypt\":\"Africa\",\"Nigeria\": \"Africa\",\n",
    "    \"Australia\":\"Australia\",\"New Zealand\":\"Australia\"\n",
    "}\n",
    "\n",
    "num_tweets_per_tag = 1000"
   ]
  },
  {
   "cell_type": "code",
   "execution_count": 52,
   "metadata": {},
   "outputs": [],
   "source": [
    "# Keywords\n",
    "keywords = [ \n",
    "    # hashtags\n",
    "    '#HogwartsLegacy','#hogwartslegacy','#HogwartsLegacyGAME','#hogwartslegacygame',\n",
    "    '#HogwartLegacy','#harrypottergame','#HogwartsLegacyGame','#hogwartslegacydrops',\n",
    "    '#HOGWARTSLEGACY'\n",
    "]\n",
    "\n",
    "users = {\n",
    "    # users\n",
    "    'HogwartsLegacy', 'Hogwarts_Legacy', 'HogwartsLegacy_', 'HogLegNews'\n",
    "}"
   ]
  },
  {
   "cell_type": "code",
   "execution_count": 68,
   "metadata": {},
   "outputs": [],
   "source": [
    "def scrape_data(num_tweets_per_tag=100):\n",
    "    start = time.time()\n",
    "    df = pd.DataFrame()\n",
    "    for word in keywords:\n",
    "        try:\n",
    "            print(f\"Scraping for keyword: {word}\")\n",
    "            df = df.append(pd.DataFrame(itertools.islice(tqdm(sntwitter.TwitterSearchScraper(\n",
    "                f'{word} lang:en since:2023-02-10 until:2023-02-19').get_items()), num_tweets_per_tag)))\n",
    "        except Exception as e:\n",
    "            print(f\"An error occured: :(\\n\")\n",
    "            continue\n",
    "    \n",
    "    for user in users:\n",
    "        try:\n",
    "            print(f\"Scraping for user: {user}\")\n",
    "            df = df.append(pd.DataFrame(itertools.islice(tqdm(sntwitter.TwitterSearchScraper(\n",
    "                f'from:{user} lang:en since:2023-02-10 until:2023-02-19').get_items()), num_tweets_per_tag)))\n",
    "        except Exception as e:\n",
    "            print(f\"An error occured: :(\\n\")\n",
    "            continue\n",
    "    # if len(df) < 150:\n",
    "    #     print(f\"Number of tweets for {countryName} is lower than expected! df shape: {df.shape}\")\n",
    "    df['username'] =  df['user'].apply(lambda x: x['username'])\n",
    "    df['verified'] = df['user'].apply(lambda x:x['verified'])\n",
    "    df['followersCount'] = df['user'].apply(lambda x:x['followersCount'])\n",
    "    df_ = df[[\"username\",\"verified\",\"followersCount\", \"rawContent\", \"date\", \"replyCount\", \"retweetCount\", \"likeCount\", \"url\", \"hashtags\"]]\n",
    "    print(f\"Shape of df {df_.shape}, Time taken: {((time.time() - start)/60):.1f} mins\")\n",
    "    return df_"
   ]
  },
  {
   "cell_type": "code",
   "execution_count": 92,
   "metadata": {},
   "outputs": [
    {
     "name": "stdout",
     "output_type": "stream",
     "text": [
      "Scraping for keyword: #HogwartsLegacy\n"
     ]
    },
    {
     "data": {
      "application/vnd.jupyter.widget-view+json": {
       "model_id": "2868d5e6483b44e3a6891c204bbf98da",
       "version_major": 2,
       "version_minor": 0
      },
      "text/plain": [
       "0it [00:00, ?it/s]"
      ]
     },
     "metadata": {},
     "output_type": "display_data"
    },
    {
     "name": "stdout",
     "output_type": "stream",
     "text": [
      "Scraping for keyword: #hogwartslegacy\n"
     ]
    },
    {
     "data": {
      "application/vnd.jupyter.widget-view+json": {
       "model_id": "7d9c6cd69f6c4857b8cc5b4f2f7da5f8",
       "version_major": 2,
       "version_minor": 0
      },
      "text/plain": [
       "0it [00:00, ?it/s]"
      ]
     },
     "metadata": {},
     "output_type": "display_data"
    },
    {
     "name": "stdout",
     "output_type": "stream",
     "text": [
      "Scraping for keyword: #HogwartsLegacyGAME\n"
     ]
    },
    {
     "data": {
      "application/vnd.jupyter.widget-view+json": {
       "model_id": "13e6d4d5ecf84d688a80b992d86ee07d",
       "version_major": 2,
       "version_minor": 0
      },
      "text/plain": [
       "0it [00:00, ?it/s]"
      ]
     },
     "metadata": {},
     "output_type": "display_data"
    },
    {
     "name": "stdout",
     "output_type": "stream",
     "text": [
      "Scraping for keyword: #hogwartslegacygame\n"
     ]
    },
    {
     "data": {
      "application/vnd.jupyter.widget-view+json": {
       "model_id": "b9646887f032458ab839bbc4236f18cd",
       "version_major": 2,
       "version_minor": 0
      },
      "text/plain": [
       "0it [00:00, ?it/s]"
      ]
     },
     "metadata": {},
     "output_type": "display_data"
    },
    {
     "name": "stdout",
     "output_type": "stream",
     "text": [
      "Scraping for keyword: #HogwartLegacy\n"
     ]
    },
    {
     "data": {
      "application/vnd.jupyter.widget-view+json": {
       "model_id": "82354bbb761f472da3b011adefc8880d",
       "version_major": 2,
       "version_minor": 0
      },
      "text/plain": [
       "0it [00:00, ?it/s]"
      ]
     },
     "metadata": {},
     "output_type": "display_data"
    },
    {
     "name": "stdout",
     "output_type": "stream",
     "text": [
      "Scraping for keyword: #harrypottergame\n"
     ]
    },
    {
     "data": {
      "application/vnd.jupyter.widget-view+json": {
       "model_id": "9acab236500e47b7a794fdc891ed7ecc",
       "version_major": 2,
       "version_minor": 0
      },
      "text/plain": [
       "0it [00:00, ?it/s]"
      ]
     },
     "metadata": {},
     "output_type": "display_data"
    },
    {
     "name": "stdout",
     "output_type": "stream",
     "text": [
      "Scraping for keyword: #HogwartsLegacyGame\n"
     ]
    },
    {
     "data": {
      "application/vnd.jupyter.widget-view+json": {
       "model_id": "af5c769cec9e41838999eaa53dd512fa",
       "version_major": 2,
       "version_minor": 0
      },
      "text/plain": [
       "0it [00:00, ?it/s]"
      ]
     },
     "metadata": {},
     "output_type": "display_data"
    },
    {
     "name": "stdout",
     "output_type": "stream",
     "text": [
      "Scraping for keyword: #hogwartslegacydrops\n"
     ]
    },
    {
     "data": {
      "application/vnd.jupyter.widget-view+json": {
       "model_id": "d7c626bfa72841978098d3165ba7e209",
       "version_major": 2,
       "version_minor": 0
      },
      "text/plain": [
       "0it [00:00, ?it/s]"
      ]
     },
     "metadata": {},
     "output_type": "display_data"
    },
    {
     "name": "stdout",
     "output_type": "stream",
     "text": [
      "Scraping for keyword: #HOGWARTSLEGACY\n"
     ]
    },
    {
     "data": {
      "application/vnd.jupyter.widget-view+json": {
       "model_id": "37900e824bf4458b981e537bcbc162f0",
       "version_major": 2,
       "version_minor": 0
      },
      "text/plain": [
       "0it [00:00, ?it/s]"
      ]
     },
     "metadata": {},
     "output_type": "display_data"
    },
    {
     "name": "stdout",
     "output_type": "stream",
     "text": [
      "Scraping for user: HogLegNews\n"
     ]
    },
    {
     "data": {
      "application/vnd.jupyter.widget-view+json": {
       "model_id": "834852874f1e4ebb8ad14d85801b2c11",
       "version_major": 2,
       "version_minor": 0
      },
      "text/plain": [
       "0it [00:00, ?it/s]"
      ]
     },
     "metadata": {},
     "output_type": "display_data"
    },
    {
     "name": "stdout",
     "output_type": "stream",
     "text": [
      "Scraping for user: HogwartsLegacy_\n"
     ]
    },
    {
     "data": {
      "application/vnd.jupyter.widget-view+json": {
       "model_id": "a0fd2dd550b245e396cd4d310e1b83b8",
       "version_major": 2,
       "version_minor": 0
      },
      "text/plain": [
       "0it [00:00, ?it/s]"
      ]
     },
     "metadata": {},
     "output_type": "display_data"
    },
    {
     "name": "stdout",
     "output_type": "stream",
     "text": [
      "Scraping for user: Hogwarts_Legacy\n"
     ]
    },
    {
     "data": {
      "application/vnd.jupyter.widget-view+json": {
       "model_id": "eac714dbdbd94ee1840d4e3226370690",
       "version_major": 2,
       "version_minor": 0
      },
      "text/plain": [
       "0it [00:00, ?it/s]"
      ]
     },
     "metadata": {},
     "output_type": "display_data"
    },
    {
     "name": "stdout",
     "output_type": "stream",
     "text": [
      "Scraping for user: HogwartsLegacy\n"
     ]
    },
    {
     "data": {
      "application/vnd.jupyter.widget-view+json": {
       "model_id": "bde593ee997d4302be6d47365cf3bb36",
       "version_major": 2,
       "version_minor": 0
      },
      "text/plain": [
       "0it [00:00, ?it/s]"
      ]
     },
     "metadata": {},
     "output_type": "display_data"
    },
    {
     "name": "stdout",
     "output_type": "stream",
     "text": [
      "Shape of df (48407, 10), Time taken: 41.0 mins\n"
     ]
    }
   ],
   "source": [
    "df = scrape_data(10000)"
   ]
  },
  {
   "cell_type": "code",
   "execution_count": 93,
   "metadata": {},
   "outputs": [
    {
     "data": {
      "text/html": [
       "<div>\n",
       "<style scoped>\n",
       "    .dataframe tbody tr th:only-of-type {\n",
       "        vertical-align: middle;\n",
       "    }\n",
       "\n",
       "    .dataframe tbody tr th {\n",
       "        vertical-align: top;\n",
       "    }\n",
       "\n",
       "    .dataframe thead th {\n",
       "        text-align: right;\n",
       "    }\n",
       "</style>\n",
       "<table border=\"1\" class=\"dataframe\">\n",
       "  <thead>\n",
       "    <tr style=\"text-align: right;\">\n",
       "      <th></th>\n",
       "      <th>username</th>\n",
       "      <th>verified</th>\n",
       "      <th>followersCount</th>\n",
       "      <th>rawContent</th>\n",
       "      <th>date</th>\n",
       "      <th>replyCount</th>\n",
       "      <th>retweetCount</th>\n",
       "      <th>likeCount</th>\n",
       "      <th>url</th>\n",
       "      <th>hashtags</th>\n",
       "    </tr>\n",
       "  </thead>\n",
       "  <tbody>\n",
       "    <tr>\n",
       "      <th>0</th>\n",
       "      <td>Slev_86</td>\n",
       "      <td>False</td>\n",
       "      <td>1971</td>\n",
       "      <td>Will be #streaming tomorrow around 10 AM EST o...</td>\n",
       "      <td>2023-02-18 23:58:28+00:00</td>\n",
       "      <td>1</td>\n",
       "      <td>1</td>\n",
       "      <td>16</td>\n",
       "      <td>https://twitter.com/Slev_86/status/16270952344...</td>\n",
       "      <td>[streaming, HogwartsLegacy]</td>\n",
       "    </tr>\n",
       "    <tr>\n",
       "      <th>1</th>\n",
       "      <td>RasmusVesik</td>\n",
       "      <td>False</td>\n",
       "      <td>27</td>\n",
       "      <td>I really love this piece of art from #Hogwarts...</td>\n",
       "      <td>2023-02-18 23:57:27+00:00</td>\n",
       "      <td>0</td>\n",
       "      <td>0</td>\n",
       "      <td>0</td>\n",
       "      <td>https://twitter.com/RasmusVesik/status/1627094...</td>\n",
       "      <td>[HogwartsLegacy]</td>\n",
       "    </tr>\n",
       "    <tr>\n",
       "      <th>2</th>\n",
       "      <td>ETalkUK</td>\n",
       "      <td>False</td>\n",
       "      <td>768</td>\n",
       "      <td>#HogwartsLegacy And #TheWorldCup Vs The World ...</td>\n",
       "      <td>2023-02-18 23:56:29+00:00</td>\n",
       "      <td>0</td>\n",
       "      <td>0</td>\n",
       "      <td>0</td>\n",
       "      <td>https://twitter.com/ETalkUK/status/16270947360...</td>\n",
       "      <td>[HogwartsLegacy, TheWorldCup, VideoGames, Podc...</td>\n",
       "    </tr>\n",
       "    <tr>\n",
       "      <th>3</th>\n",
       "      <td>KaleLikeTheLeaf</td>\n",
       "      <td>False</td>\n",
       "      <td>263</td>\n",
       "      <td>#HogwartsLegacy Ravenclaw Playthrough is Now L...</td>\n",
       "      <td>2023-02-18 23:55:54+00:00</td>\n",
       "      <td>0</td>\n",
       "      <td>0</td>\n",
       "      <td>6</td>\n",
       "      <td>https://twitter.com/KaleLikeTheLeaf/status/162...</td>\n",
       "      <td>[HogwartsLegacy]</td>\n",
       "    </tr>\n",
       "    <tr>\n",
       "      <th>4</th>\n",
       "      <td>BeamtupG</td>\n",
       "      <td>False</td>\n",
       "      <td>22</td>\n",
       "      <td>Continuing my (evil) exploration through the #...</td>\n",
       "      <td>2023-02-18 23:54:26+00:00</td>\n",
       "      <td>0</td>\n",
       "      <td>0</td>\n",
       "      <td>0</td>\n",
       "      <td>https://twitter.com/BeamtupG/status/1627094219...</td>\n",
       "      <td>[WizardingWorld, HogwartsLegacy, pc, streaming...</td>\n",
       "    </tr>\n",
       "    <tr>\n",
       "      <th>...</th>\n",
       "      <td>...</td>\n",
       "      <td>...</td>\n",
       "      <td>...</td>\n",
       "      <td>...</td>\n",
       "      <td>...</td>\n",
       "      <td>...</td>\n",
       "      <td>...</td>\n",
       "      <td>...</td>\n",
       "      <td>...</td>\n",
       "      <td>...</td>\n",
       "    </tr>\n",
       "    <tr>\n",
       "      <th>44</th>\n",
       "      <td>HogwartsLegacy</td>\n",
       "      <td>True</td>\n",
       "      <td>490274</td>\n",
       "      <td>Be the envy of all your classmates with these ...</td>\n",
       "      <td>2023-02-10 20:01:36+00:00</td>\n",
       "      <td>228</td>\n",
       "      <td>222</td>\n",
       "      <td>2721</td>\n",
       "      <td>https://twitter.com/HogwartsLegacy/status/1624...</td>\n",
       "      <td>[HogwartsLegacy]</td>\n",
       "    </tr>\n",
       "    <tr>\n",
       "      <th>45</th>\n",
       "      <td>HogwartsLegacy</td>\n",
       "      <td>True</td>\n",
       "      <td>490274</td>\n",
       "      <td>The magic is finally here. What kind of Legacy...</td>\n",
       "      <td>2023-02-10 18:00:45+00:00</td>\n",
       "      <td>545</td>\n",
       "      <td>1036</td>\n",
       "      <td>11478</td>\n",
       "      <td>https://twitter.com/HogwartsLegacy/status/1624...</td>\n",
       "      <td>[HogwartsLegacy]</td>\n",
       "    </tr>\n",
       "    <tr>\n",
       "      <th>46</th>\n",
       "      <td>HogwartsLegacy</td>\n",
       "      <td>True</td>\n",
       "      <td>490274</td>\n",
       "      <td>Don't miss your last chance to don Merlin's Cl...</td>\n",
       "      <td>2023-02-10 16:15:29+00:00</td>\n",
       "      <td>560</td>\n",
       "      <td>405</td>\n",
       "      <td>3830</td>\n",
       "      <td>https://twitter.com/HogwartsLegacy/status/1624...</td>\n",
       "      <td>[HogwartsLegacy]</td>\n",
       "    </tr>\n",
       "    <tr>\n",
       "      <th>47</th>\n",
       "      <td>HogwartsLegacy</td>\n",
       "      <td>True</td>\n",
       "      <td>490274</td>\n",
       "      <td>Don't want to watch on Twitch? You can also ca...</td>\n",
       "      <td>2023-02-10 15:55:59+00:00</td>\n",
       "      <td>17</td>\n",
       "      <td>34</td>\n",
       "      <td>439</td>\n",
       "      <td>https://twitter.com/HogwartsLegacy/status/1624...</td>\n",
       "      <td>None</td>\n",
       "    </tr>\n",
       "    <tr>\n",
       "      <th>48</th>\n",
       "      <td>HogwartsLegacy</td>\n",
       "      <td>True</td>\n",
       "      <td>490274</td>\n",
       "      <td>Today is the day! Celebrate the Global Launch ...</td>\n",
       "      <td>2023-02-10 15:55:58+00:00</td>\n",
       "      <td>257</td>\n",
       "      <td>480</td>\n",
       "      <td>6006</td>\n",
       "      <td>https://twitter.com/HogwartsLegacy/status/1624...</td>\n",
       "      <td>[HogwartsLegacy]</td>\n",
       "    </tr>\n",
       "  </tbody>\n",
       "</table>\n",
       "<p>48407 rows × 10 columns</p>\n",
       "</div>"
      ],
      "text/plain": [
       "           username  verified  followersCount  \\\n",
       "0           Slev_86     False            1971   \n",
       "1       RasmusVesik     False              27   \n",
       "2           ETalkUK     False             768   \n",
       "3   KaleLikeTheLeaf     False             263   \n",
       "4          BeamtupG     False              22   \n",
       "..              ...       ...             ...   \n",
       "44   HogwartsLegacy      True          490274   \n",
       "45   HogwartsLegacy      True          490274   \n",
       "46   HogwartsLegacy      True          490274   \n",
       "47   HogwartsLegacy      True          490274   \n",
       "48   HogwartsLegacy      True          490274   \n",
       "\n",
       "                                           rawContent  \\\n",
       "0   Will be #streaming tomorrow around 10 AM EST o...   \n",
       "1   I really love this piece of art from #Hogwarts...   \n",
       "2   #HogwartsLegacy And #TheWorldCup Vs The World ...   \n",
       "3   #HogwartsLegacy Ravenclaw Playthrough is Now L...   \n",
       "4   Continuing my (evil) exploration through the #...   \n",
       "..                                                ...   \n",
       "44  Be the envy of all your classmates with these ...   \n",
       "45  The magic is finally here. What kind of Legacy...   \n",
       "46  Don't miss your last chance to don Merlin's Cl...   \n",
       "47  Don't want to watch on Twitch? You can also ca...   \n",
       "48  Today is the day! Celebrate the Global Launch ...   \n",
       "\n",
       "                        date  replyCount  retweetCount  likeCount  \\\n",
       "0  2023-02-18 23:58:28+00:00           1             1         16   \n",
       "1  2023-02-18 23:57:27+00:00           0             0          0   \n",
       "2  2023-02-18 23:56:29+00:00           0             0          0   \n",
       "3  2023-02-18 23:55:54+00:00           0             0          6   \n",
       "4  2023-02-18 23:54:26+00:00           0             0          0   \n",
       "..                       ...         ...           ...        ...   \n",
       "44 2023-02-10 20:01:36+00:00         228           222       2721   \n",
       "45 2023-02-10 18:00:45+00:00         545          1036      11478   \n",
       "46 2023-02-10 16:15:29+00:00         560           405       3830   \n",
       "47 2023-02-10 15:55:59+00:00          17            34        439   \n",
       "48 2023-02-10 15:55:58+00:00         257           480       6006   \n",
       "\n",
       "                                                  url  \\\n",
       "0   https://twitter.com/Slev_86/status/16270952344...   \n",
       "1   https://twitter.com/RasmusVesik/status/1627094...   \n",
       "2   https://twitter.com/ETalkUK/status/16270947360...   \n",
       "3   https://twitter.com/KaleLikeTheLeaf/status/162...   \n",
       "4   https://twitter.com/BeamtupG/status/1627094219...   \n",
       "..                                                ...   \n",
       "44  https://twitter.com/HogwartsLegacy/status/1624...   \n",
       "45  https://twitter.com/HogwartsLegacy/status/1624...   \n",
       "46  https://twitter.com/HogwartsLegacy/status/1624...   \n",
       "47  https://twitter.com/HogwartsLegacy/status/1624...   \n",
       "48  https://twitter.com/HogwartsLegacy/status/1624...   \n",
       "\n",
       "                                             hashtags  \n",
       "0                         [streaming, HogwartsLegacy]  \n",
       "1                                    [HogwartsLegacy]  \n",
       "2   [HogwartsLegacy, TheWorldCup, VideoGames, Podc...  \n",
       "3                                    [HogwartsLegacy]  \n",
       "4   [WizardingWorld, HogwartsLegacy, pc, streaming...  \n",
       "..                                                ...  \n",
       "44                                   [HogwartsLegacy]  \n",
       "45                                   [HogwartsLegacy]  \n",
       "46                                   [HogwartsLegacy]  \n",
       "47                                               None  \n",
       "48                                   [HogwartsLegacy]  \n",
       "\n",
       "[48407 rows x 10 columns]"
      ]
     },
     "execution_count": 93,
     "metadata": {},
     "output_type": "execute_result"
    }
   ],
   "source": [
    "df"
   ]
  },
  {
   "cell_type": "code",
   "execution_count": 94,
   "metadata": {},
   "outputs": [],
   "source": [
    "hashtags = []\n",
    "for i in df['hashtags']:\n",
    "    try:\n",
    "        for j in i:\n",
    "            if j not in hashtags:\n",
    "                hashtags.append(j)\n",
    "    except:\n",
    "        continue\n",
    "\n",
    "usernames = []\n",
    "for i in df['username']:\n",
    "    try:\n",
    "        if i not in usernames:\n",
    "            usernames.append(i)\n",
    "    except:\n",
    "        continue\n",
    "# print(usernames)"
   ]
  },
  {
   "cell_type": "code",
   "execution_count": 95,
   "metadata": {},
   "outputs": [
    {
     "name": "stdout",
     "output_type": "stream",
     "text": [
      "['HogwartsLegacy', 'HOGWARTSLEGACY', 'HogwartsLegacyGAME', 'Hogwarts', 'hogwartslegacy', 'hogwartsismyhome', 'Hogwartslegacy', 'Hogwartschallange', 'ClownPrinceOfHogwarts', 'hogwarts', 'hogwartsexpress', 'hogwartslegacygame', 'hogwartslegacygameplay', 'HogwartsLegacyboycott', 'HogwartsLegacyPs5', 'HogwartsLegacydrops', 'HOGWARTS', 'HogwartsLegacyPatrocinado', 'hogwartsLegacy', 'HogwartsLegacyGame', 'HogwartsLegacypc', 'HogwartsGame', 'HogwartsCastle', 'HogwartsLegacyVP', 'HogwartsGameplay', 'HogwartsLegacyPatrocinad', 'Hogwartslegacygame', 'HogwartsLegacyDemo', 'HogwartsLegacyLHéritagedePoudlard', 'HogwartsLegacyPC', 'HogwartsHouse', 'HogwartsHouses', 'hogwartslegacymeme', 'hogwartshouses', 'hogwartsprofessors', 'HogwartsLegacyphotography', 'HogwartsMystery', 'HogwartsLegacyfr', 'hogwartsgame', 'HogwartsLegacyLive', 'BoycottHogwartsLegacy', 'HogwartsLegacyBoycott', 'hogwartslegacythegame', 'hogwartslegacycommunity', 'hogwartslegacyfan', 'hogwartsgamer', 'hogwartsschool', 'BackToHogwarts', 'hogwartslegacyps5', 'HogwartsLegacyps4', 'hogwartsphotography', 'HogwartsRPG', 'HogwartsLegacyGameplay', 'hogwartslegacythrophes', 'hogwartsmystery', 'hogwartslive', 'GhostOfOurLoveQuestHogwartsLegacy', 'BreakingCampQuestHogwartsLegacy', 'hogwartsgameplay', 'BrothersKeeperQuestHogwartsLegacy', 'HogwartsLegacygame', 'hogwartsemote', 'HogwartsLegacyDLC', 'hogwartslegacypart9', 'hogwartslegacygameplaypart9', 'hogwartspart9', 'hogwartslegacygwalkthroughpart9', 'hogwartslegacyfunnymoments', 'wizardingworldofhogwarts', 'hogwartsrpg', 'hogwartsadventures', 'HogwartsLegacyITA', 'HogwartsLegacyConcurso', 'HogwartsLegacyGiveaway', 'HogWartsLegacy', 'HogwartsLegacyBugs', 'HogwartsLegacymap', 'hogwartslegacymusic', 'hogwartslegacysoundtrack', 'DissendingForSweetsHogwartsLegacy', 'MyHogwartsLegacy', 'HogwartsLegacyMM', 'HogwartsLegacyDay', 'hogwartslegacyGAME', 'Hogwartsismyhome', 'hogwartslegacymemes', 'HauntedHogwarts', 'hogwartslegacygameplaywalkthroughpart8', 'hogwartslegacypart8', 'hogwartspart8', 'hogwartslegacygameplaypart8', 'hogwartshomie', 'HogwartsChallenge', 'HogwartsPuzzles', 'TheLostAstrolabeSideQuestHogwartsLegacy', 'hogwartsHarryPotterGame', 'hogwartscastle', 'hogwartslegacyboycott', 'CartedAwaySideQuestHogwartsLegacy', 'hogwartslegacynews', 'hogwartslegacyphotography', 'hogwartslegacyPS5', 'hogwartscontroller', 'hogwartslegacycontroller', 'hogwartslegacyga', 'AntHogwartsLegacy', 'HogwartsLegacyRP', 'HogwartsFanClub', 'hogwartslegacygameplaywalkthroughpart7', 'hogwartspart7', 'hogwartslegacypart7', 'HogwartsLegacyPatch', 'HogwartsChallenges', 'HogwartsLegacyEpic', 'HogwartsLegacyHard', 'HogwartsLegacyHardMode', 'HogwartsLegacyPRO', 'hogwartslegacyhardmode', 'hogwartslegacyhard', 'hogwartslegacyisevil', 'HogwartsLegacyPS5', 'temptedtoplayhogwartsinsteadofsleeping', 'hogwartslegacysponsored', 'hogwartskey', 'HogwartsLegacyTips', 'HogwartsLegacySponsored', 'Hogwartslagacy', 'GuidetoHogwartsLegacyCurrency', 'hogwartsletter', 'hogwartslegscy', 'hogwartslegacygameplaypart6', 'hogwartspart6', 'hogwartslegacygameplaywalkthroughpart6', 'HogwartsLegacyfan', 'HogwartsLegacyDeluxeEdition', 'hogwartslegacyplaythrough', 'harrypotterHogwarts', 'hogwartsfanart', 'HogwartsLegacyFirstLook', 'letsplayHogwarts', 'hogwartspart5', 'hogwartslegacygameplaypart5', 'flyingsaroundhogwarts', 'HogwartsLegacymeme', 'hogwartslegacyart', 'hogwartslegacyglitch', 'hogwartsleg', 'HogwartsLegacyCE', 'hogwartslegacygameplaywalkthroughpart4', 'hogwartspart4', 'hogwartslegacypart4', 'hogwartsgameplaypart4', 'hogwartslegacyfunny', 'HogwartsLegacyReview', 'HogwartsLegacygameplay', 'harrypotterhogwarts', 'HogwartsLegacyNoEIGames', 'hogwartslegacypart3', 'hogwartslegacygameplaypart3', 'hogwartslegacygameplaywalkthrough', 'HogwartslegacyPS5', 'exploinghogwarts', 'hogwartslegacyjp', 'hogwartstrialbossfight', 'hogwartsfirsttrialfight', 'hogwartslegacytrialquests', 'hogwartslegacygoblins', 'hogwartslegacybadguys', 'hogwartsmultiplayer', 'HogwartsAi', 'fixhogwartslegacy', 'hogwartslegacytransphobic', 'HogwartsProblems', 'hogwartsBug', 'HogwartsLegacyGuide', 'HogwartsLegacyInventory', 'HogwartsLegacyboycottfailed', 'hogwartslegacyclips', 'HogwartsLegacycharacters', 'boycotthogwartslegacy', 'HogwartsLoegacy', 'hogwartsfashion', 'cancelhogwarts', 'hogwartslegacypuzzledoor', 'hogwartslegacyhouse', 'VastGGHogwartsLegacy', 'hogwartslegacygear', 'HogwartsLegacyStream', 'antiHogwartsLegacy', 'hogwartsfans', 'awesomehogwartslegacy', 'hogwartslegacyguide', 'makelovenothogwarts', 'hogwartsmap', 'HogwartsLegacyDrops', 'Iwanthogwartslegacy', 'HogwartsLegacyXbox', 'hogwartslegacybug', 'HogwartsLegacyCRASH', 'LivingMyBestHogwartsLife', 'hogwartslegacytips', 'HogwartsLe', 'hogwartsbutterflies', 'hogwartsconjuration', 'lukestephenshogwartslegacy', 'hogwartslegacyreview', 'returntohogwarts']\n",
      "['HogwartsLegacy', 'HogwartsLegacy_', 'HogwartsLegacyW', 'hogwartinfo', 'HogwartsAI']\n"
     ]
    }
   ],
   "source": [
    "print([x for x in hashtags if 'hogwarts' in x.lower()])\n",
    "print([x for x in usernames if 'hogwart' in x.lower()])\n",
    "# hashtags = ['HogwartsLegacy','hogwartslegacy','HogwartsLegacyGAME','hogwartslegacygame',\n",
    "#             'HogwartLegacy','harrypottergame','HogwartsLegacyGame','hogwartslegacydrops',\n",
    "#             'HOGWARTSLEGACY']"
   ]
  },
  {
   "cell_type": "code",
   "execution_count": 96,
   "metadata": {},
   "outputs": [
    {
     "name": "stdout",
     "output_type": "stream",
     "text": [
      "Shape of df after cleaning: (48407, 10)\n"
     ]
    }
   ],
   "source": [
    "# Cleaning Data\n",
    "df_indexes_v2 = []\n",
    "user_dict = {}\n",
    "for i in range(len(df)):\n",
    "    tweet = df[\"rawContent\"].iloc[i]\n",
    "    \n",
    "    # To remove tweets that have more hashtags than normal text\n",
    "    word_list = tweet.lower().split()\n",
    "    num_normal = 0\n",
    "    num_tags = 0\n",
    "    for j in range(len(word_list)):\n",
    "        temp = word_list[j]\n",
    "        if temp[0] == '#':\n",
    "            num_tags += 1\n",
    "        else:\n",
    "            num_normal += 1\n",
    "    if num_tags > num_normal:\n",
    "        continue\n",
    "print(f'Shape of df after cleaning: {df.shape}')"
   ]
  },
  {
   "cell_type": "code",
   "execution_count": 97,
   "metadata": {},
   "outputs": [],
   "source": [
    "df_v2 = df"
   ]
  },
  {
   "cell_type": "code",
   "execution_count": 90,
   "metadata": {},
   "outputs": [
    {
     "name": "stdout",
     "output_type": "stream",
     "text": [
      "           username  verified  followersCount  \\\n",
      "0           Slev_86     False            1971   \n",
      "1       RasmusVesik     False              27   \n",
      "2           ETalkUK     False             768   \n",
      "3   KaleLikeTheLeaf     False             263   \n",
      "4          BeamtupG     False              22   \n",
      "..              ...       ...             ...   \n",
      "44   HogwartsLegacy      True          490235   \n",
      "45   HogwartsLegacy      True          490235   \n",
      "46   HogwartsLegacy      True          490235   \n",
      "47   HogwartsLegacy      True          490235   \n",
      "48   HogwartsLegacy      True          490235   \n",
      "\n",
      "                                           rawContent  \\\n",
      "0   Will be #streaming tomorrow around 10 AM EST o...   \n",
      "1   I really love this piece of art from #Hogwarts...   \n",
      "2   #HogwartsLegacy And #TheWorldCup Vs The World ...   \n",
      "3   #HogwartsLegacy Ravenclaw Playthrough is Now L...   \n",
      "4   Continuing my (evil) exploration through the #...   \n",
      "..                                                ...   \n",
      "44  Be the envy of all your classmates with these ...   \n",
      "45  The magic is finally here. What kind of Legacy...   \n",
      "46  Don't miss your last chance to don Merlin's Cl...   \n",
      "47  Don't want to watch on Twitch? You can also ca...   \n",
      "48  Today is the day! Celebrate the Global Launch ...   \n",
      "\n",
      "                        date  replyCount  retweetCount  likeCount  \\\n",
      "0  2023-02-18 23:58:28+00:00           1             1         16   \n",
      "1  2023-02-18 23:57:27+00:00           0             0          0   \n",
      "2  2023-02-18 23:56:29+00:00           0             0          0   \n",
      "3  2023-02-18 23:55:54+00:00           0             0          6   \n",
      "4  2023-02-18 23:54:26+00:00           0             0          0   \n",
      "..                       ...         ...           ...        ...   \n",
      "44 2023-02-10 20:01:36+00:00         228           222       2721   \n",
      "45 2023-02-10 18:00:45+00:00         545          1036      11478   \n",
      "46 2023-02-10 16:15:29+00:00         560           405       3830   \n",
      "47 2023-02-10 15:55:59+00:00          17            34        439   \n",
      "48 2023-02-10 15:55:58+00:00         257           480       6006   \n",
      "\n",
      "                                                  url  \\\n",
      "0   https://twitter.com/Slev_86/status/16270952344...   \n",
      "1   https://twitter.com/RasmusVesik/status/1627094...   \n",
      "2   https://twitter.com/ETalkUK/status/16270947360...   \n",
      "3   https://twitter.com/KaleLikeTheLeaf/status/162...   \n",
      "4   https://twitter.com/BeamtupG/status/1627094219...   \n",
      "..                                                ...   \n",
      "44  https://twitter.com/HogwartsLegacy/status/1624...   \n",
      "45  https://twitter.com/HogwartsLegacy/status/1624...   \n",
      "46  https://twitter.com/HogwartsLegacy/status/1624...   \n",
      "47  https://twitter.com/HogwartsLegacy/status/1624...   \n",
      "48  https://twitter.com/HogwartsLegacy/status/1624...   \n",
      "\n",
      "                                             hashtags  \n",
      "0                         [streaming, HogwartsLegacy]  \n",
      "1                                    [HogwartsLegacy]  \n",
      "2   [HogwartsLegacy, TheWorldCup, VideoGames, Podc...  \n",
      "3                                    [HogwartsLegacy]  \n",
      "4   [WizardingWorld, HogwartsLegacy, pc, streaming...  \n",
      "..                                                ...  \n",
      "44                                   [HogwartsLegacy]  \n",
      "45                                   [HogwartsLegacy]  \n",
      "46                                   [HogwartsLegacy]  \n",
      "47                                                 []  \n",
      "48                                   [HogwartsLegacy]  \n",
      "\n",
      "[7217 rows x 10 columns]\n"
     ]
    }
   ],
   "source": [
    "print(df_v2)"
   ]
  },
  {
   "cell_type": "code",
   "execution_count": 100,
   "metadata": {},
   "outputs": [
    {
     "name": "stdout",
     "output_type": "stream",
     "text": [
      "(21686, 10)\n"
     ]
    }
   ],
   "source": [
    "# Shuffling tweets in version 2 of the dataframe, and saving to a CSV file\n",
    "df_v2 = df_v2.drop_duplicates(subset='rawContent')\n",
    "df_v2 = df_v2.sample(frac=1).reset_index(drop=True)\n",
    "df_v2['date'] = df_v2['date'].dt.tz_localize(None)\n",
    "print(df_v2.shape)\n",
    "# df_v2.to_csv(\"HGL_crawled.csv\", index=False)"
   ]
  },
  {
   "attachments": {},
   "cell_type": "markdown",
   "metadata": {},
   "source": [
    "## Data Preprocessing"
   ]
  },
  {
   "attachments": {},
   "cell_type": "markdown",
   "metadata": {},
   "source": [
    "# download wordlists for nltk\n",
    "nltk.download('punkt')\n",
    "nltk.download('stopwords')\n",
    "nltk.download('wordnet')"
   ]
  },
  {
   "cell_type": "code",
   "execution_count": null,
   "metadata": {},
   "outputs": [],
   "source": [
    "punctuation = '!\"$%&\\'()*+,-./:;<=>?[\\\\]^_`{|}~•@'  \n",
    "\n",
    "# text = re.sub(emoji.get_emoji_regexp(), r\"\", text)\n",
    "\n",
    "def remove_links(tweet):\n",
    "    \"\"\"Takes a string and removes web links from it\"\"\"\n",
    "    tweet = re.sub(r'http\\S+', '', tweet)   # remove http links\n",
    "    tweet = re.sub(r'bit.ly/\\S+', '', tweet)  # remove bitly links\n",
    "    tweet = tweet.strip('[link]')   # remove [links]\n",
    "    tweet = re.sub(r'pic.twitter\\S+','', tweet)\n",
    "    return tweet\n",
    "\n",
    "def remove_users(tweet):\n",
    "    \"\"\"Takes a string and removes retweet and @user information\"\"\"\n",
    "    tweet = re.sub('(RT\\s@[A-Za-z]+[A-Za-z0-9-_]+)', '', tweet)  # remove re-tweet\n",
    "    tweet = re.sub('(@[A-Za-z]+[A-Za-z0-9-_]+)', '', tweet)  # remove tweeted at\n",
    "    return tweet\n",
    "\n",
    "def remove_hashtags(tweet):\n",
    "    \"\"\"Takes a string and removes any hash tags\"\"\"\n",
    "    tweet = re.sub('(#[A-Za-z]+[A-Za-z0-9-_]+)', '', tweet)  # remove hash tags\n",
    "    return tweet\n",
    "\n",
    "def remove_av(tweet):\n",
    "    \"\"\"Takes a string and removes AUDIO/VIDEO tags or labels\"\"\"\n",
    "    tweet = re.sub('VIDEO:', '', tweet)  # remove 'VIDEO:' from start of tweet\n",
    "    tweet = re.sub('AUDIO:', '', tweet)  # remove 'AUDIO:' from start of tweet\n",
    "    return tweet\n",
    "\n",
    "def tokenize(tweet):\n",
    "    \"\"\"Returns tokenized representation of words in lemma form excluding stopwords\"\"\"\n",
    "    result = []\n",
    "    \n",
    "    tweet = clean(tweet, no_emoji=True)\n",
    "    for token in word_tokenize(tweet):\n",
    "        if token not in stopwords.words('english') \\\n",
    "                and len(token) > 2:  # drops words with less than 3 characters\n",
    "            result.append(lemmatize(token))\n",
    "    return result\n",
    "\n",
    "def lemmatize(token):\n",
    "    \"\"\"Returns lemmatization of a token\"\"\"\n",
    "    return WordNetLemmatizer().lemmatize(token, pos='v')\n",
    "\n",
    "def preprocess_tweet(tweet):\n",
    "    \"\"\"Main master function to clean tweets, stripping noisy characters, and tokenizing use lemmatization\"\"\"\n",
    "    tweet = remove_users(tweet)\n",
    "    tweet = remove_links(tweet)\n",
    "    tweet = remove_hashtags(tweet)\n",
    "    tweet = remove_av(tweet)\n",
    "    tweet = tweet.lower()  # lower case\n",
    "    tweet = re.sub('[' + punctuation + ']+', ' ', tweet)  # strip punctuation\n",
    "    tweet = re.sub('\\s+', ' ', tweet)  # remove double spacing\n",
    "    tweet = re.sub('([0-9]+)', '', tweet)  # remove numbers\n",
    "    tweet_token_list = tokenize(tweet)  # apply lemmatization and tokenization\n",
    "    tweet = ' '.join(tweet_token_list)\n",
    "    return tweet"
   ]
  },
  {
   "cell_type": "code",
   "execution_count": null,
   "metadata": {},
   "outputs": [],
   "source": [
    "df['cleaned_text'] = df['content'].apply(preprocess_tweet)"
   ]
  }
 ],
 "metadata": {
  "kernelspec": {
   "display_name": "base",
   "language": "python",
   "name": "python3"
  },
  "language_info": {
   "codemirror_mode": {
    "name": "ipython",
    "version": 3
   },
   "file_extension": ".py",
   "mimetype": "text/x-python",
   "name": "python",
   "nbconvert_exporter": "python",
   "pygments_lexer": "ipython3",
   "version": "3.8.8"
  },
  "orig_nbformat": 4,
  "vscode": {
   "interpreter": {
    "hash": "85aac79e2b7c83a49d5de7efb9090a25b23db6a6bc435f4224aaa33786f0d66f"
   }
  }
 },
 "nbformat": 4,
 "nbformat_minor": 2
}
